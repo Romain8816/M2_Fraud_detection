{
 "cells": [
  {
   "cell_type": "markdown",
   "id": "303c27f1-a0fc-4aad-b165-a9a000e625ce",
   "metadata": {},
   "source": [
    "# Classification dans un contexte déséquilibré : Détection de fraude par chèque"
   ]
  },
  {
   "cell_type": "markdown",
   "id": "0f424e10-dac6-442d-94a2-8b6c74b15069",
   "metadata": {
    "tags": []
   },
   "source": [
    "## 1. Introduction du sujet et présentation des données d'études"
   ]
  },
  {
   "cell_type": "markdown",
   "id": "06f54f48-9db1-4057-b225-7d4204a3a2f2",
   "metadata": {
    "jp-MarkdownHeadingCollapsed": true,
    "tags": []
   },
   "source": [
    "### 1.1 La fraude par chèque\n",
    "\n",
    "La fraude par chèque fait référence à tout moyen visant à obtenir de l'argent illégalement à l'aide de chèques papier ou numériques. \n",
    "\n",
    "Cela peut inclure une personne écrivant un chèque sans provision sur son propre compte, falsifiant un chèque au nom de quelqu'un d'autre ou élaborant un chèque complètement faux. \n",
    "\n",
    "Il existe de nombreuses autres moyens de fraude par chèque (Check Kiting, Chèque flottant, Vol de chèque, Altération chimique, Fraude par mandat-poste ...)"
   ]
  },
  {
   "cell_type": "markdown",
   "id": "d91424e1-8fa7-4c87-b477-7c706bcfa42e",
   "metadata": {
    "tags": []
   },
   "source": [
    "### 1.2 Données d'études"
   ]
  },
  {
   "cell_type": "markdown",
   "id": "6196a867-95f2-455c-8e8a-cded68346e1e",
   "metadata": {},
   "source": [
    "Notre étude va porter sur la détection de fraude par chèque dans un contexte déséquilibré. En effet nous disposons d'un jeu de données contenant très peu de transactions frauduleuses par rapport à la taille de notre échantillon d'étude.\n",
    "\n",
    "Ces transactions sont issues d'une enseigne de la grande distribution ainsi que de certains organismes bancaires (FNCI et Banque de France). Elles ont été effectuées par chèque dans un magasin de l'enseigne quelque part en France durant l'année 2017, du 01/02 au 30/11 (soit au total 10 mois de transactions). \n",
    "\n",
    "Le jeu de donnée est composé de 4 646 773 transactions dont seulement 29 995 frauduleuses, soit 0.64% du total des transactions.  \n",
    "Il comporte 23 variables sont certaines sont issues du feature engineering : \n",
    "\n",
    "* **ZIBZIN** : identiﬁant relatif à la personne, i.e. il s’agit de son identiﬁant bancaire (relatif au chéquier en cours d’utilisation)  \n",
    "* **IDAvisAutorisAtionCheque** : identiﬁant de la transaction en cours\n",
    "\n",
    "* **Montant** : montant de la transaction\n",
    "\n",
    "* **DateTransaction** : date de la transaction\n",
    "\n",
    "* **CodeDecision** : il s’agit d’une variable qui peut prendre ici 4 valeurs\n",
    "    - 0 : la transaction a été acceptée par le magasin\n",
    "    - 1 : la transaction et donc le client fait partie d’une liste blanche (bons payeurs). Vous n’en rencontrerez pas dans cette base de données\n",
    "    - 2 : le client fait d’une partie d’une liste noire, son historique indique cet un mauvais payer (des impayés en cours ou des incidents bancaires en cours), sa transaction est alors automatiquement refusée\n",
    "    - 3 : client ayant était arrêté par le système par le passé pour une raison plus ou moins fondée  "
   ]
  },
  {
   "cell_type": "markdown",
   "id": "96b99757-b526-404b-8fa4-7084c5c317f0",
   "metadata": {},
   "source": [
    "* **VériﬁanceCPT1** : nombre de transactions eﬀectuées par le même identiﬁant bancaire au cours du même jour\n",
    "* **VériﬁanceCPT2** : nombre de transactions eﬀectuées par le même identiﬁant bancaire au cours des trois derniers jours\n",
    "* **VériﬁanceCPT3** : nombre de transactions eﬀectuées par le même identiﬁant bancaire au cours des sept derniers jours\n",
    "\n",
    "* **D2CB** : durée de connaissance du client (par son identiﬁant bancaire), en jours. Pour des contraintes légales, cette durée de connaissance ne peut excéder deux ans\n",
    "\n",
    "* **ScoringFP1** : score d’anormalité du panier relatif à une première famille de produits (ex : denrées alimentaires)\n",
    "* **ScoringFP2** : score d’anormalité du panier relatif à une deuxième famille de produits (ex : électroniques)\n",
    "* **ScoringFP3** : score d’anormalité du panier relatif à une troisième famille de produits (ex : autres)\n",
    "\n",
    "* **TauxImpNb_RB** : taux impayés enregistrés selon la région où a lieu la transaction\n",
    "* **TauxImpNB_CPM** : taux d’impayés relatif au magasin où a lieu la transaction\n",
    "\n",
    "* **EcartNumCheq** : diﬀérence entre les numéros de chèques\n",
    "\n",
    "* **NbrMagasin3J** : nombre de magasins diﬀérents fréquentés les 3 derniers jours\n",
    "\n",
    "* **DiﬀDateTr1** : écart (en jours) à la précédente transaction\n",
    "* **DiﬀDateTr2** : écart (en jours) à l’avant dernière transaction\n",
    "* **DiﬀDateTr3** : écart (en jours) à l’antépénultième transaction\n",
    "\n",
    "* **CA3TRetMtt** : montant des dernières transactions + montant de la transaction en cours\n",
    "* **CA3TR** : montant des trois dernières transactions\n",
    "* **Heure** : heure de la transaction\n",
    "\n",
    "* <span style=\"color:red\"> **FlagImpaye** </span> : variable cible à prédire. Acception (0) ou refus de la transaction (1) car considérée comme frauduleuse."
   ]
  },
  {
   "cell_type": "markdown",
   "id": "69eb9336-fbdf-4c8a-990d-ed57f1c927f7",
   "metadata": {
    "tags": []
   },
   "source": [
    "## 2. Chargement des données + import des librairies"
   ]
  },
  {
   "cell_type": "markdown",
   "id": "66085d90-4657-4aea-9efb-8519a3cecd42",
   "metadata": {},
   "source": [
    "Le jeu de données étant volumineux (970 Mo) nous avons choisit d'utiliser la librairie **Dask** afin de faire des calculs parallèles. "
   ]
  },
  {
   "cell_type": "code",
   "execution_count": 1,
   "id": "6651711e",
   "metadata": {
    "executionInfo": {
     "elapsed": 1807,
     "status": "ok",
     "timestamp": 1640337834170,
     "user": {
      "displayName": "Romain Dudoit",
      "photoUrl": "https://lh3.googleusercontent.com/a-/AOh14GizThmFBbZCdH9nvzuEI6Hdzx-SL6SgA8iafuLfXQ=s64",
      "userId": "06076835397863256255"
     },
     "user_tz": -60
    },
    "id": "6651711e"
   },
   "outputs": [],
   "source": [
    "import pandas as pd\n",
    "import numpy as np\n",
    "import sys\n",
    "import dask.dataframe as ddf\n",
    "import datetime as dt\n",
    "from sklearn.linear_model import LogisticRegression\n",
    "from sklearn.preprocessing import MinMaxScaler\n",
    "from sklearn.metrics import classification_report\n",
    "from dask import delayed\n",
    "from collections import Counter\n",
    "\n",
    "from imblearn.over_sampling import ADASYN\n",
    "import pickle"
   ]
  },
  {
   "cell_type": "code",
   "execution_count": 2,
   "id": "svDYRbJKtUL2",
   "metadata": {
    "colab": {
     "base_uri": "https://localhost:8080/"
    },
    "executionInfo": {
     "elapsed": 27848,
     "status": "ok",
     "timestamp": 1640337817508,
     "user": {
      "displayName": "Romain Dudoit",
      "photoUrl": "https://lh3.googleusercontent.com/a-/AOh14GizThmFBbZCdH9nvzuEI6Hdzx-SL6SgA8iafuLfXQ=s64",
      "userId": "06076835397863256255"
     },
     "user_tz": -60
    },
    "id": "svDYRbJKtUL2",
    "outputId": "68016421-8266-4bf9-a919-6cd535d87e00"
   },
   "outputs": [],
   "source": [
    "#Connexion à Google drive (uniquement à exécuter depuis Google colab)\n",
    "\n",
    "#import os\n",
    "#from google.colab import drive\n",
    "#MOUNTPOINT = '/content/drive'\n",
    "#DATADIR = os.path.join(MOUNTPOINT,'MyDrive','Colab Notebooks/Projet Fouille de données')\n",
    "#drive.mount(MOUNTPOINT)\n",
    "#os.chdir(DATADIR)"
   ]
  },
  {
   "cell_type": "code",
   "execution_count": 3,
   "id": "V_eFaMJyWHkr",
   "metadata": {
    "colab": {
     "base_uri": "https://localhost:8080/"
    },
    "executionInfo": {
     "elapsed": 6264,
     "status": "ok",
     "timestamp": 1640337832365,
     "user": {
      "displayName": "Romain Dudoit",
      "photoUrl": "https://lh3.googleusercontent.com/a-/AOh14GizThmFBbZCdH9nvzuEI6Hdzx-SL6SgA8iafuLfXQ=s64",
      "userId": "06076835397863256255"
     },
     "user_tz": -60
    },
    "id": "V_eFaMJyWHkr",
    "outputId": "1cb7340d-4d98-4c6a-bc00-b9e4d3336da2"
   },
   "outputs": [],
   "source": [
    "#!pip install \"dask[complete]\""
   ]
  },
  {
   "cell_type": "markdown",
   "id": "46547736-a37a-4064-897a-fea346d50f44",
   "metadata": {
    "executionInfo": {
     "elapsed": 4,
     "status": "ok",
     "timestamp": 1640337834171,
     "user": {
      "displayName": "Romain Dudoit",
      "photoUrl": "https://lh3.googleusercontent.com/a-/AOh14GizThmFBbZCdH9nvzuEI6Hdzx-SL6SgA8iafuLfXQ=s64",
      "userId": "06076835397863256255"
     },
     "user_tz": -60
    },
    "id": "b3f76056"
   },
   "source": [
    "data = ddf.read_csv(\"guillaume.txt\", sep=';',dtype={\n",
    "       'CA3TRetMtt': 'float64',\n",
    "       'CA3TR': 'float64',\n",
    "       'CodeDecision': 'category',\n",
    "       'D2CB': 'int64',\n",
    "       'DiffDateTr1': 'float64',\n",
    "       'DiffDateTr2': 'float64',\n",
    "       'DiffDateTr3': 'float64',\n",
    "       'EcartNumCheq': 'int64',\n",
    "       'FlagImpaye': 'int64',\n",
    "       'Heure': 'int64',\n",
    "       'Montant': 'float64',\n",
    "       'NbrMagasin3J': 'int64',\n",
    "       'ScoringFP1': 'float64',\n",
    "       'ScoringFP2': 'float64',\n",
    "       'ScoringFP3': 'float64',\n",
    "       'TauxImpNB_CPM': 'float64',\n",
    "       'TauxImpNb_RB': 'float64',\n",
    "       'VerifianceCPT1': 'int64',\n",
    "       'VerifianceCPT2': 'int64',\n",
    "       'VerifianceCPT3': 'int64'}, header=0, assume_missing=True, parse_dates=['DateTransaction'],decimal=\",\",blocksize=300*1024*1024)"
   ]
  },
  {
   "cell_type": "code",
   "execution_count": 4,
   "id": "0f311ee9-e588-49e1-bc6d-1795470f538d",
   "metadata": {},
   "outputs": [],
   "source": [
    "data = pd.read_csv(\"guillaume.txt\", sep=';',dtype={\n",
    "       'CA3TRetMtt': 'float64',\n",
    "       'CA3TR': 'float64',\n",
    "       'CodeDecision': 'category',\n",
    "       'D2CB': 'int64',\n",
    "       'DiffDateTr1': 'float64',\n",
    "       'DiffDateTr2': 'float64',\n",
    "       'DiffDateTr3': 'float64',\n",
    "       'EcartNumCheq': 'int64',\n",
    "       'FlagImpaye': 'int64',\n",
    "       'Heure': 'int64',\n",
    "       'Montant': 'float64',\n",
    "       'NbrMagasin3J': 'int64',\n",
    "       'ScoringFP1': 'float64',\n",
    "       'ScoringFP2': 'float64',\n",
    "       'ScoringFP3': 'float64',\n",
    "       'TauxImpNB_CPM': 'float64',\n",
    "       'TauxImpNb_RB': 'float64',\n",
    "       'VerifianceCPT1': 'int64',\n",
    "       'VerifianceCPT2': 'int64',\n",
    "       'VerifianceCPT3': 'int64'}, header=0, parse_dates=['DateTransaction'],decimal=\",\")"
   ]
  },
  {
   "cell_type": "markdown",
   "id": "DYOMNpgduqrv",
   "metadata": {
    "id": "DYOMNpgduqrv",
    "tags": []
   },
   "source": [
    "## 3. Exploration des données"
   ]
  },
  {
   "cell_type": "code",
   "execution_count": 25,
   "id": "RA9fWUJa7QUN",
   "metadata": {
    "colab": {
     "base_uri": "https://localhost:8080/",
     "height": 357
    },
    "executionInfo": {
     "elapsed": 7836,
     "status": "ok",
     "timestamp": 1640337497983,
     "user": {
      "displayName": "Romain Dudoit",
      "photoUrl": "https://lh3.googleusercontent.com/a-/AOh14GizThmFBbZCdH9nvzuEI6Hdzx-SL6SgA8iafuLfXQ=s64",
      "userId": "06076835397863256255"
     },
     "user_tz": -60
    },
    "id": "RA9fWUJa7QUN",
    "outputId": "01080033-5b61-4663-e0b2-96e886979a01"
   },
   "outputs": [
    {
     "data": {
      "text/html": [
       "<div>\n",
       "<style scoped>\n",
       "    .dataframe tbody tr th:only-of-type {\n",
       "        vertical-align: middle;\n",
       "    }\n",
       "\n",
       "    .dataframe tbody tr th {\n",
       "        vertical-align: top;\n",
       "    }\n",
       "\n",
       "    .dataframe thead th {\n",
       "        text-align: right;\n",
       "    }\n",
       "</style>\n",
       "<table border=\"1\" class=\"dataframe\">\n",
       "  <thead>\n",
       "    <tr style=\"text-align: right;\">\n",
       "      <th></th>\n",
       "      <th>ZIBZIN</th>\n",
       "      <th>IDAvisAutorisationCheque</th>\n",
       "      <th>FlagImpaye</th>\n",
       "      <th>Montant</th>\n",
       "      <th>DateTransaction</th>\n",
       "      <th>CodeDecision</th>\n",
       "      <th>VerifianceCPT1</th>\n",
       "      <th>VerifianceCPT2</th>\n",
       "      <th>VerifianceCPT3</th>\n",
       "      <th>D2CB</th>\n",
       "      <th>...</th>\n",
       "      <th>TauxImpNb_RB</th>\n",
       "      <th>TauxImpNB_CPM</th>\n",
       "      <th>EcartNumCheq</th>\n",
       "      <th>NbrMagasin3J</th>\n",
       "      <th>DiffDateTr1</th>\n",
       "      <th>DiffDateTr2</th>\n",
       "      <th>DiffDateTr3</th>\n",
       "      <th>CA3TRetMtt</th>\n",
       "      <th>CA3TR</th>\n",
       "      <th>Heure</th>\n",
       "    </tr>\n",
       "  </thead>\n",
       "  <tbody>\n",
       "    <tr>\n",
       "      <th>0</th>\n",
       "      <td>A013010004908126703060931</td>\n",
       "      <td>78643044</td>\n",
       "      <td>0</td>\n",
       "      <td>20.00</td>\n",
       "      <td>2017-02-01 07:32:14</td>\n",
       "      <td>1</td>\n",
       "      <td>0</td>\n",
       "      <td>0</td>\n",
       "      <td>0</td>\n",
       "      <td>551</td>\n",
       "      <td>...</td>\n",
       "      <td>37.186668</td>\n",
       "      <td>52.076034</td>\n",
       "      <td>0</td>\n",
       "      <td>1</td>\n",
       "      <td>4.000000</td>\n",
       "      <td>4.0</td>\n",
       "      <td>4.0</td>\n",
       "      <td>20.00</td>\n",
       "      <td>0.00</td>\n",
       "      <td>27134</td>\n",
       "    </tr>\n",
       "    <tr>\n",
       "      <th>1</th>\n",
       "      <td>A013011306908024927155000</td>\n",
       "      <td>78643045</td>\n",
       "      <td>0</td>\n",
       "      <td>20.00</td>\n",
       "      <td>2017-02-01 07:43:37</td>\n",
       "      <td>1</td>\n",
       "      <td>0</td>\n",
       "      <td>0</td>\n",
       "      <td>0</td>\n",
       "      <td>551</td>\n",
       "      <td>...</td>\n",
       "      <td>48.844716</td>\n",
       "      <td>52.076034</td>\n",
       "      <td>1</td>\n",
       "      <td>2</td>\n",
       "      <td>1.797685</td>\n",
       "      <td>4.0</td>\n",
       "      <td>4.0</td>\n",
       "      <td>28.61</td>\n",
       "      <td>8.61</td>\n",
       "      <td>27817</td>\n",
       "    </tr>\n",
       "    <tr>\n",
       "      <th>2</th>\n",
       "      <td>A013010002908283134592527</td>\n",
       "      <td>78643046</td>\n",
       "      <td>0</td>\n",
       "      <td>57.64</td>\n",
       "      <td>2017-02-01 07:47:38</td>\n",
       "      <td>1</td>\n",
       "      <td>0</td>\n",
       "      <td>0</td>\n",
       "      <td>0</td>\n",
       "      <td>549</td>\n",
       "      <td>...</td>\n",
       "      <td>73.118280</td>\n",
       "      <td>52.076034</td>\n",
       "      <td>0</td>\n",
       "      <td>1</td>\n",
       "      <td>4.000000</td>\n",
       "      <td>4.0</td>\n",
       "      <td>4.0</td>\n",
       "      <td>57.64</td>\n",
       "      <td>0.00</td>\n",
       "      <td>28058</td>\n",
       "    </tr>\n",
       "    <tr>\n",
       "      <th>3</th>\n",
       "      <td>A011010002908105209831316</td>\n",
       "      <td>78643047</td>\n",
       "      <td>0</td>\n",
       "      <td>54.29</td>\n",
       "      <td>2017-02-01 07:48:48</td>\n",
       "      <td>0</td>\n",
       "      <td>1</td>\n",
       "      <td>1</td>\n",
       "      <td>1</td>\n",
       "      <td>267</td>\n",
       "      <td>...</td>\n",
       "      <td>110.056926</td>\n",
       "      <td>53.554234</td>\n",
       "      <td>0</td>\n",
       "      <td>1</td>\n",
       "      <td>4.000000</td>\n",
       "      <td>4.0</td>\n",
       "      <td>4.0</td>\n",
       "      <td>54.29</td>\n",
       "      <td>0.00</td>\n",
       "      <td>28128</td>\n",
       "    </tr>\n",
       "    <tr>\n",
       "      <th>4</th>\n",
       "      <td>A013010041908000125652029</td>\n",
       "      <td>78643048</td>\n",
       "      <td>0</td>\n",
       "      <td>26.90</td>\n",
       "      <td>2017-02-01 08:13:27</td>\n",
       "      <td>1</td>\n",
       "      <td>0</td>\n",
       "      <td>0</td>\n",
       "      <td>0</td>\n",
       "      <td>549</td>\n",
       "      <td>...</td>\n",
       "      <td>45.368313</td>\n",
       "      <td>52.076034</td>\n",
       "      <td>1</td>\n",
       "      <td>1</td>\n",
       "      <td>1.997106</td>\n",
       "      <td>4.0</td>\n",
       "      <td>4.0</td>\n",
       "      <td>59.15</td>\n",
       "      <td>32.25</td>\n",
       "      <td>29607</td>\n",
       "    </tr>\n",
       "  </tbody>\n",
       "</table>\n",
       "<p>5 rows × 23 columns</p>\n",
       "</div>"
      ],
      "text/plain": [
       "                      ZIBZIN  IDAvisAutorisationCheque  FlagImpaye  Montant  \\\n",
       "0  A013010004908126703060931                  78643044           0    20.00   \n",
       "1  A013011306908024927155000                  78643045           0    20.00   \n",
       "2  A013010002908283134592527                  78643046           0    57.64   \n",
       "3  A011010002908105209831316                  78643047           0    54.29   \n",
       "4  A013010041908000125652029                  78643048           0    26.90   \n",
       "\n",
       "      DateTransaction CodeDecision  VerifianceCPT1  VerifianceCPT2  \\\n",
       "0 2017-02-01 07:32:14            1               0               0   \n",
       "1 2017-02-01 07:43:37            1               0               0   \n",
       "2 2017-02-01 07:47:38            1               0               0   \n",
       "3 2017-02-01 07:48:48            0               1               1   \n",
       "4 2017-02-01 08:13:27            1               0               0   \n",
       "\n",
       "   VerifianceCPT3  D2CB  ...  TauxImpNb_RB  TauxImpNB_CPM  EcartNumCheq  \\\n",
       "0               0   551  ...     37.186668      52.076034             0   \n",
       "1               0   551  ...     48.844716      52.076034             1   \n",
       "2               0   549  ...     73.118280      52.076034             0   \n",
       "3               1   267  ...    110.056926      53.554234             0   \n",
       "4               0   549  ...     45.368313      52.076034             1   \n",
       "\n",
       "   NbrMagasin3J  DiffDateTr1  DiffDateTr2  DiffDateTr3  CA3TRetMtt  CA3TR  \\\n",
       "0             1     4.000000          4.0          4.0       20.00   0.00   \n",
       "1             2     1.797685          4.0          4.0       28.61   8.61   \n",
       "2             1     4.000000          4.0          4.0       57.64   0.00   \n",
       "3             1     4.000000          4.0          4.0       54.29   0.00   \n",
       "4             1     1.997106          4.0          4.0       59.15  32.25   \n",
       "\n",
       "   Heure  \n",
       "0  27134  \n",
       "1  27817  \n",
       "2  28058  \n",
       "3  28128  \n",
       "4  29607  \n",
       "\n",
       "[5 rows x 23 columns]"
      ]
     },
     "execution_count": 25,
     "metadata": {},
     "output_type": "execute_result"
    }
   ],
   "source": [
    "data.head()"
   ]
  },
  {
   "cell_type": "code",
   "execution_count": 26,
   "id": "53a44e1d-f29c-4c92-adeb-34fd7d59f78c",
   "metadata": {},
   "outputs": [
    {
     "data": {
      "text/plain": [
       "ZIBZIN                              object\n",
       "IDAvisAutorisationCheque             int64\n",
       "FlagImpaye                           int64\n",
       "Montant                            float64\n",
       "DateTransaction             datetime64[ns]\n",
       "CodeDecision                      category\n",
       "VerifianceCPT1                       int64\n",
       "VerifianceCPT2                       int64\n",
       "VerifianceCPT3                       int64\n",
       "D2CB                                 int64\n",
       "ScoringFP1                         float64\n",
       "ScoringFP2                         float64\n",
       "ScoringFP3                         float64\n",
       "TauxImpNb_RB                       float64\n",
       "TauxImpNB_CPM                      float64\n",
       "EcartNumCheq                         int64\n",
       "NbrMagasin3J                         int64\n",
       "DiffDateTr1                        float64\n",
       "DiffDateTr2                        float64\n",
       "DiffDateTr3                        float64\n",
       "CA3TRetMtt                         float64\n",
       "CA3TR                              float64\n",
       "Heure                                int64\n",
       "dtype: object"
      ]
     },
     "execution_count": 26,
     "metadata": {},
     "output_type": "execute_result"
    }
   ],
   "source": [
    "data.dtypes"
   ]
  },
  {
   "cell_type": "code",
   "execution_count": 28,
   "id": "3kmEuW1hYDrd",
   "metadata": {
    "colab": {
     "base_uri": "https://localhost:8080/"
    },
    "executionInfo": {
     "elapsed": 27455,
     "status": "ok",
     "timestamp": 1640337525436,
     "user": {
      "displayName": "Romain Dudoit",
      "photoUrl": "https://lh3.googleusercontent.com/a-/AOh14GizThmFBbZCdH9nvzuEI6Hdzx-SL6SgA8iafuLfXQ=s64",
      "userId": "06076835397863256255"
     },
     "user_tz": -60
    },
    "id": "3kmEuW1hYDrd",
    "outputId": "35df1e79-1980-4f7a-c6c9-3033687f0ad7"
   },
   "outputs": [
    {
     "name": "stdout",
     "output_type": "stream",
     "text": [
      "4646773\n",
      "Wall time: 1 ms\n"
     ]
    }
   ],
   "source": [
    "%%time\n",
    "\n",
    "# Calcul du nombre de lignes\n",
    "nrows = data.index.size\n",
    "print(nrows)"
   ]
  },
  {
   "cell_type": "markdown",
   "id": "242c149c-733b-4b9a-9cd5-032cacde3bcb",
   "metadata": {},
   "source": [
    "Nombre de lignes : 4 646 773"
   ]
  },
  {
   "cell_type": "markdown",
   "id": "27b0fa01-6aea-480f-9f3b-2b1b379a9411",
   "metadata": {
    "tags": []
   },
   "source": [
    "#### Vérifications de la présence de valeurs nulles"
   ]
  },
  {
   "cell_type": "code",
   "execution_count": 29,
   "id": "1YOTjm-TexyC",
   "metadata": {
    "id": "1YOTjm-TexyC"
   },
   "outputs": [
    {
     "data": {
      "text/plain": [
       "ZIBZIN                      0\n",
       "IDAvisAutorisationCheque    0\n",
       "FlagImpaye                  0\n",
       "Montant                     0\n",
       "DateTransaction             0\n",
       "CodeDecision                0\n",
       "VerifianceCPT1              0\n",
       "VerifianceCPT2              0\n",
       "VerifianceCPT3              0\n",
       "D2CB                        0\n",
       "ScoringFP1                  0\n",
       "ScoringFP2                  0\n",
       "ScoringFP3                  0\n",
       "TauxImpNb_RB                0\n",
       "TauxImpNB_CPM               0\n",
       "EcartNumCheq                0\n",
       "NbrMagasin3J                0\n",
       "DiffDateTr1                 0\n",
       "DiffDateTr2                 0\n",
       "DiffDateTr3                 0\n",
       "CA3TRetMtt                  0\n",
       "CA3TR                       0\n",
       "Heure                       0\n",
       "dtype: int64"
      ]
     },
     "execution_count": 29,
     "metadata": {},
     "output_type": "execute_result"
    }
   ],
   "source": [
    "data.isnull().sum()"
   ]
  },
  {
   "cell_type": "markdown",
   "id": "WrJswMHTfbeV",
   "metadata": {
    "id": "WrJswMHTfbeV"
   },
   "source": [
    "-> Pas de valeurs nulles"
   ]
  },
  {
   "cell_type": "markdown",
   "id": "c3172211-de26-499e-8686-7e3bceb9b580",
   "metadata": {},
   "source": [
    "#### Distribution de la variable cible"
   ]
  },
  {
   "cell_type": "code",
   "execution_count": 30,
   "id": "U02pCR9De4XC",
   "metadata": {
    "id": "U02pCR9De4XC"
   },
   "outputs": [
    {
     "name": "stdout",
     "output_type": "stream",
     "text": [
      "Counter({0: 4616778, 1: 29995})\n"
     ]
    }
   ],
   "source": [
    "distrib_of_target = Counter(data['FlagImpaye'])\n",
    "print(distrib_of_target)"
   ]
  },
  {
   "cell_type": "markdown",
   "id": "jR3t-syjfTrP",
   "metadata": {
    "id": "jR3t-syjfTrP"
   },
   "source": [
    "29 995 cas de fraude dans l'ensemble du jeu de données "
   ]
  },
  {
   "cell_type": "code",
   "execution_count": 31,
   "id": "TbuFnVUGj5RJ",
   "metadata": {
    "id": "TbuFnVUGj5RJ"
   },
   "outputs": [
    {
     "data": {
      "text/plain": [
       "0.6455017277581668"
      ]
     },
     "execution_count": 31,
     "metadata": {},
     "output_type": "execute_result"
    }
   ],
   "source": [
    "(distrib_of_target[1]/nrows)*100"
   ]
  },
  {
   "cell_type": "markdown",
   "id": "IBSrBbGej_5S",
   "metadata": {
    "id": "IBSrBbGej_5S"
   },
   "source": [
    "Seulement 0.64 % de cas de fraude ce qui est effectivement très peu. "
   ]
  },
  {
   "cell_type": "code",
   "execution_count": 65,
   "id": "315d6ded-2084-404f-8e00-361be7f0ba3b",
   "metadata": {},
   "outputs": [
    {
     "data": {
      "text/plain": [
       "Counter({'1': 1121626, '0': 3502786, '2': 19562, '3': 2798, '4': 1})"
      ]
     },
     "execution_count": 65,
     "metadata": {},
     "output_type": "execute_result"
    }
   ],
   "source": [
    "Counter(data['CodeDecision'])"
   ]
  },
  {
   "cell_type": "markdown",
   "id": "a54f8fe6-e857-4d71-a75c-b570c67417ce",
   "metadata": {},
   "source": [
    "A quoi correspond 4 ? s'agit t-il d'une erreur ?"
   ]
  },
  {
   "cell_type": "markdown",
   "id": "7OKXp0o9k1JF",
   "metadata": {
    "id": "7OKXp0o9k1JF"
   },
   "source": [
    "## 4. Transformation et sélection de variables"
   ]
  },
  {
   "cell_type": "markdown",
   "id": "2eXn0l_GmXw2",
   "metadata": {
    "id": "2eXn0l_GmXw2"
   },
   "source": [
    "On supprimera naturellement les variables \"ZIBZIN\", \"IDAvisAutorisationCheque\",\"DateTransaction\" et \"Heure\".   \n",
    "\n",
    "Les deux premières correspondent à des identfiants et ne vont pas aider dans l'apprentissage. La dernière correpond à une date et ne peux pas être utilisée telle quelle dans l'apprentissage.\n",
    "\n",
    "De plus on fera un one hot encoding de  "
   ]
  },
  {
   "cell_type": "code",
   "execution_count": 5,
   "id": "3bd5e3d1-71d5-40fc-8a86-0c1462f2eff7",
   "metadata": {},
   "outputs": [],
   "source": [
    "#Transformation de la colonne DateTransaction pour ne garder seulement que la date et enlever l'heure\n",
    "data['DateTransaction'] = ddf.to_datetime(data['DateTransaction']).dt.date\n",
    "data['DateTransaction'] = data['DateTransaction'].astype('datetime64')"
   ]
  },
  {
   "cell_type": "code",
   "execution_count": 6,
   "id": "8ecb92e9-2286-4a42-8693-6bc43f288fdc",
   "metadata": {},
   "outputs": [],
   "source": [
    "ColsToRemove = [\"ZIBZIN\",\"IDAvisAutorisationCheque\",\"DateTransaction\",\"FlagImpaye\",\"Heure\"]\n",
    "ColsToKeep = [col for col in data.columns if col not in ColsToRemove]"
   ]
  },
  {
   "cell_type": "markdown",
   "id": "yQgbNYBtkeiI",
   "metadata": {
    "id": "yQgbNYBtkeiI"
   },
   "source": [
    "## 5. Séparation apprentissage test"
   ]
  },
  {
   "cell_type": "code",
   "execution_count": 54,
   "id": "3b87899d",
   "metadata": {
    "executionInfo": {
     "elapsed": 50156,
     "status": "ok",
     "timestamp": 1640337884323,
     "user": {
      "displayName": "Romain Dudoit",
      "photoUrl": "https://lh3.googleusercontent.com/a-/AOh14GizThmFBbZCdH9nvzuEI6Hdzx-SL6SgA8iafuLfXQ=s64",
      "userId": "06076835397863256255"
     },
     "user_tz": -60
    },
    "id": "3b87899d"
   },
   "outputs": [],
   "source": [
    "#Création DataFrame apprentissage\n",
    "XTrain = data[data['DateTransaction'] < '2017-09-01'][ColsToKeep]\n",
    "yTrain = data[data['DateTransaction'] < '2017-09-01'][\"FlagImpaye\"]"
   ]
  },
  {
   "cell_type": "code",
   "execution_count": 55,
   "id": "312f5a8f",
   "metadata": {
    "executionInfo": {
     "elapsed": 2,
     "status": "ok",
     "timestamp": 1640337984835,
     "user": {
      "displayName": "Romain Dudoit",
      "photoUrl": "https://lh3.googleusercontent.com/a-/AOh14GizThmFBbZCdH9nvzuEI6Hdzx-SL6SgA8iafuLfXQ=s64",
      "userId": "06076835397863256255"
     },
     "user_tz": -60
    },
    "id": "312f5a8f"
   },
   "outputs": [],
   "source": [
    "#Création DataFrame Test\n",
    "XTest = data[data['DateTransaction'] >= \"2017-09-01\"][ColsToKeep]\n",
    "yTest = data[data['DateTransaction'] >= \"2017-09-01\"][\"FlagImpaye\"]"
   ]
  },
  {
   "cell_type": "code",
   "execution_count": 11,
   "id": "N2dAjgXjwkfS",
   "metadata": {
    "id": "N2dAjgXjwkfS"
   },
   "outputs": [],
   "source": [
    "#nrowsTrain  = XTrain.index.size\n",
    "#(nrowsTrain/nrows)*100"
   ]
  },
  {
   "cell_type": "markdown",
   "id": "63BUJmxpl73V",
   "metadata": {
    "id": "63BUJmxpl73V"
   },
   "source": [
    "Près de 84 % des observations sont dans le Trainset.\n"
   ]
  },
  {
   "cell_type": "markdown",
   "id": "7b427593-3123-46cf-bc9a-61b6ade669fa",
   "metadata": {},
   "source": [
    "## 6. Pré-traitements"
   ]
  },
  {
   "cell_type": "markdown",
   "id": "4e7aa111-12ac-4b34-8855-cb0c39f353b5",
   "metadata": {},
   "source": [
    "On va procéder à la normalisation des variables numériques et au codage disjonctif des variables catégorielles. "
   ]
  },
  {
   "cell_type": "code",
   "execution_count": 56,
   "id": "65d9ce22-32e3-43d5-996d-e76fb2f2148c",
   "metadata": {},
   "outputs": [],
   "source": [
    "from sklearn.preprocessing import StandardScaler, OneHotEncoder\n",
    "from sklearn.pipeline import make_pipeline, Pipeline\n",
    "from sklearn.compose import make_column_transformer, make_column_selector, ColumnTransformer"
   ]
  },
  {
   "cell_type": "code",
   "execution_count": 60,
   "id": "8c9529ed-bad7-429f-8ca6-2d3990f5a848",
   "metadata": {},
   "outputs": [],
   "source": [
    "def preprocessing():\n",
    "    numerical_features = make_column_selector(dtype_include=np.number)\n",
    "    categorical_features = make_column_selector(dtype_exclude=np.number)\n",
    "\n",
    "    # Standardisation\n",
    "    numerical_pipeline = Pipeline([('scaler',StandardScaler())])\n",
    "\n",
    "    # Codage disjonctif\n",
    "    categorical_pipeline = Pipeline([('onehot',OneHotEncoder(drop='first',sparse=False,handle_unknown=\"ignore\"))])\n",
    "\n",
    "    preprocessor = ColumnTransformer(\n",
    "        transformers = [\n",
    "            ('num',numerical_pipeline,numerical_features),\n",
    "            ('cat',categorical_pipeline,categorical_features)\n",
    "        ]\n",
    "    )\n",
    "\n",
    "    prep = Pipeline([('preprocessor',preprocessor)])\n",
    "    \n",
    "    return prep\n"
   ]
  },
  {
   "cell_type": "code",
   "execution_count": 61,
   "id": "0a78a5ed-a55b-4fb7-b18e-9526ef54cbe3",
   "metadata": {},
   "outputs": [],
   "source": [
    "prep = preprocessing()"
   ]
  },
  {
   "cell_type": "code",
   "execution_count": 62,
   "id": "102ac95e-7d8c-4b4e-ae99-656c1af31c74",
   "metadata": {},
   "outputs": [
    {
     "name": "stderr",
     "output_type": "stream",
     "text": [
      "C:\\Users\\rodud\\anaconda3\\lib\\site-packages\\sklearn\\preprocessing\\_encoders.py:170: UserWarning: Found unknown categories in columns [0] during transform. These unknown categories will be encoded as all zeros\n",
      "  warnings.warn(\n"
     ]
    }
   ],
   "source": [
    "XTrain_prep = prep.fit_transform(XTrain)\n",
    "\n",
    "enc_cat_features = prep[\"preprocessor\"].named_transformers_['cat']['onehot'].get_feature_names_out()\n",
    "enc_num_features = prep[\"preprocessor\"].named_transformers_['num']['scaler'].get_feature_names_out()\n",
    "labels = np.concatenate([enc_num_features, enc_cat_features])\n",
    "\n",
    "XTrain_prep = pd.DataFrame(XTrain_prep,columns = labels)\n",
    "\n",
    "\n",
    "XTest_prep = prep.transform(XTest,)\n",
    "XTest_prep = pd.DataFrame(XTest_prep,columns = labels)"
   ]
  },
  {
   "cell_type": "code",
   "execution_count": 63,
   "id": "26a47c3a-2a4d-481d-a7b5-976b2644150b",
   "metadata": {},
   "outputs": [
    {
     "data": {
      "text/html": [
       "<div>\n",
       "<style scoped>\n",
       "    .dataframe tbody tr th:only-of-type {\n",
       "        vertical-align: middle;\n",
       "    }\n",
       "\n",
       "    .dataframe tbody tr th {\n",
       "        vertical-align: top;\n",
       "    }\n",
       "\n",
       "    .dataframe thead th {\n",
       "        text-align: right;\n",
       "    }\n",
       "</style>\n",
       "<table border=\"1\" class=\"dataframe\">\n",
       "  <thead>\n",
       "    <tr style=\"text-align: right;\">\n",
       "      <th></th>\n",
       "      <th>Montant</th>\n",
       "      <th>VerifianceCPT1</th>\n",
       "      <th>VerifianceCPT2</th>\n",
       "      <th>VerifianceCPT3</th>\n",
       "      <th>D2CB</th>\n",
       "      <th>ScoringFP1</th>\n",
       "      <th>ScoringFP2</th>\n",
       "      <th>ScoringFP3</th>\n",
       "      <th>TauxImpNb_RB</th>\n",
       "      <th>TauxImpNB_CPM</th>\n",
       "      <th>EcartNumCheq</th>\n",
       "      <th>NbrMagasin3J</th>\n",
       "      <th>DiffDateTr1</th>\n",
       "      <th>DiffDateTr2</th>\n",
       "      <th>DiffDateTr3</th>\n",
       "      <th>CA3TRetMtt</th>\n",
       "      <th>CA3TR</th>\n",
       "      <th>CodeDecision_1</th>\n",
       "      <th>CodeDecision_2</th>\n",
       "      <th>CodeDecision_3</th>\n",
       "    </tr>\n",
       "  </thead>\n",
       "  <tbody>\n",
       "    <tr>\n",
       "      <th>0</th>\n",
       "      <td>0.002838</td>\n",
       "      <td>-0.581824</td>\n",
       "      <td>-0.552351</td>\n",
       "      <td>-0.521176</td>\n",
       "      <td>-0.113197</td>\n",
       "      <td>-0.084590</td>\n",
       "      <td>-0.239505</td>\n",
       "      <td>-0.275801</td>\n",
       "      <td>0.104780</td>\n",
       "      <td>0.818043</td>\n",
       "      <td>-0.043817</td>\n",
       "      <td>-0.194165</td>\n",
       "      <td>0.135329</td>\n",
       "      <td>-0.301229</td>\n",
       "      <td>-0.451325</td>\n",
       "      <td>-0.067504</td>\n",
       "      <td>-0.202861</td>\n",
       "      <td>0.0</td>\n",
       "      <td>0.0</td>\n",
       "      <td>0.0</td>\n",
       "    </tr>\n",
       "    <tr>\n",
       "      <th>1</th>\n",
       "      <td>-0.367410</td>\n",
       "      <td>-0.581824</td>\n",
       "      <td>-0.552351</td>\n",
       "      <td>-0.521176</td>\n",
       "      <td>0.999490</td>\n",
       "      <td>-0.084590</td>\n",
       "      <td>-0.239505</td>\n",
       "      <td>-0.275801</td>\n",
       "      <td>0.562636</td>\n",
       "      <td>0.818043</td>\n",
       "      <td>-0.043817</td>\n",
       "      <td>-0.194165</td>\n",
       "      <td>0.135329</td>\n",
       "      <td>-0.301229</td>\n",
       "      <td>-0.451325</td>\n",
       "      <td>-0.407012</td>\n",
       "      <td>-0.202861</td>\n",
       "      <td>0.0</td>\n",
       "      <td>0.0</td>\n",
       "      <td>0.0</td>\n",
       "    </tr>\n",
       "    <tr>\n",
       "      <th>2</th>\n",
       "      <td>-0.293360</td>\n",
       "      <td>-0.581824</td>\n",
       "      <td>-0.552351</td>\n",
       "      <td>-0.521176</td>\n",
       "      <td>-0.794433</td>\n",
       "      <td>-0.084590</td>\n",
       "      <td>-0.239505</td>\n",
       "      <td>-0.275801</td>\n",
       "      <td>0.104780</td>\n",
       "      <td>0.818043</td>\n",
       "      <td>-0.043817</td>\n",
       "      <td>-0.194165</td>\n",
       "      <td>0.135329</td>\n",
       "      <td>-0.301229</td>\n",
       "      <td>-0.451325</td>\n",
       "      <td>-0.339111</td>\n",
       "      <td>-0.202861</td>\n",
       "      <td>0.0</td>\n",
       "      <td>0.0</td>\n",
       "      <td>0.0</td>\n",
       "    </tr>\n",
       "    <tr>\n",
       "      <th>3</th>\n",
       "      <td>-0.410993</td>\n",
       "      <td>-0.581824</td>\n",
       "      <td>-0.552351</td>\n",
       "      <td>-0.521176</td>\n",
       "      <td>0.300087</td>\n",
       "      <td>-0.084276</td>\n",
       "      <td>-0.220902</td>\n",
       "      <td>-0.271244</td>\n",
       "      <td>0.101057</td>\n",
       "      <td>-0.259327</td>\n",
       "      <td>-0.043797</td>\n",
       "      <td>-0.194165</td>\n",
       "      <td>-3.102777</td>\n",
       "      <td>-6.176976</td>\n",
       "      <td>-6.370488</td>\n",
       "      <td>0.246686</td>\n",
       "      <td>1.804313</td>\n",
       "      <td>0.0</td>\n",
       "      <td>0.0</td>\n",
       "      <td>0.0</td>\n",
       "    </tr>\n",
       "    <tr>\n",
       "      <th>4</th>\n",
       "      <td>-0.418081</td>\n",
       "      <td>-0.581824</td>\n",
       "      <td>-0.552351</td>\n",
       "      <td>-0.521176</td>\n",
       "      <td>-0.794433</td>\n",
       "      <td>-0.083803</td>\n",
       "      <td>-0.344082</td>\n",
       "      <td>-0.263424</td>\n",
       "      <td>0.104780</td>\n",
       "      <td>0.818043</td>\n",
       "      <td>-0.043817</td>\n",
       "      <td>-0.194165</td>\n",
       "      <td>0.135329</td>\n",
       "      <td>-0.301229</td>\n",
       "      <td>-0.451325</td>\n",
       "      <td>-0.453476</td>\n",
       "      <td>-0.202861</td>\n",
       "      <td>0.0</td>\n",
       "      <td>0.0</td>\n",
       "      <td>0.0</td>\n",
       "    </tr>\n",
       "    <tr>\n",
       "      <th>...</th>\n",
       "      <td>...</td>\n",
       "      <td>...</td>\n",
       "      <td>...</td>\n",
       "      <td>...</td>\n",
       "      <td>...</td>\n",
       "      <td>...</td>\n",
       "      <td>...</td>\n",
       "      <td>...</td>\n",
       "      <td>...</td>\n",
       "      <td>...</td>\n",
       "      <td>...</td>\n",
       "      <td>...</td>\n",
       "      <td>...</td>\n",
       "      <td>...</td>\n",
       "      <td>...</td>\n",
       "      <td>...</td>\n",
       "      <td>...</td>\n",
       "      <td>...</td>\n",
       "      <td>...</td>\n",
       "      <td>...</td>\n",
       "    </tr>\n",
       "    <tr>\n",
       "      <th>747406</th>\n",
       "      <td>-0.378623</td>\n",
       "      <td>-0.581824</td>\n",
       "      <td>-0.552351</td>\n",
       "      <td>-0.521176</td>\n",
       "      <td>-1.480212</td>\n",
       "      <td>0.113655</td>\n",
       "      <td>-2.540800</td>\n",
       "      <td>4.016041</td>\n",
       "      <td>0.050403</td>\n",
       "      <td>0.275354</td>\n",
       "      <td>-0.043817</td>\n",
       "      <td>-0.194165</td>\n",
       "      <td>1.080337</td>\n",
       "      <td>1.656183</td>\n",
       "      <td>1.954013</td>\n",
       "      <td>-0.417294</td>\n",
       "      <td>-0.202861</td>\n",
       "      <td>0.0</td>\n",
       "      <td>0.0</td>\n",
       "      <td>0.0</td>\n",
       "    </tr>\n",
       "    <tr>\n",
       "      <th>747407</th>\n",
       "      <td>0.347698</td>\n",
       "      <td>-0.581824</td>\n",
       "      <td>-0.552351</td>\n",
       "      <td>-0.521176</td>\n",
       "      <td>0.849618</td>\n",
       "      <td>-0.082103</td>\n",
       "      <td>-0.467809</td>\n",
       "      <td>-0.269084</td>\n",
       "      <td>2.113782</td>\n",
       "      <td>-0.097657</td>\n",
       "      <td>-0.043812</td>\n",
       "      <td>4.975724</td>\n",
       "      <td>-2.665722</td>\n",
       "      <td>-0.301229</td>\n",
       "      <td>-0.451325</td>\n",
       "      <td>1.896305</td>\n",
       "      <td>4.564563</td>\n",
       "      <td>0.0</td>\n",
       "      <td>0.0</td>\n",
       "      <td>0.0</td>\n",
       "    </tr>\n",
       "    <tr>\n",
       "      <th>747408</th>\n",
       "      <td>0.098045</td>\n",
       "      <td>-0.581824</td>\n",
       "      <td>-0.552351</td>\n",
       "      <td>-0.521176</td>\n",
       "      <td>-1.480212</td>\n",
       "      <td>0.065774</td>\n",
       "      <td>-0.348018</td>\n",
       "      <td>1.447105</td>\n",
       "      <td>0.554204</td>\n",
       "      <td>0.818043</td>\n",
       "      <td>-0.043817</td>\n",
       "      <td>-0.194165</td>\n",
       "      <td>1.080337</td>\n",
       "      <td>1.656183</td>\n",
       "      <td>1.954013</td>\n",
       "      <td>0.019798</td>\n",
       "      <td>-0.202861</td>\n",
       "      <td>0.0</td>\n",
       "      <td>0.0</td>\n",
       "      <td>0.0</td>\n",
       "    </tr>\n",
       "    <tr>\n",
       "      <th>747409</th>\n",
       "      <td>-0.020434</td>\n",
       "      <td>-0.581824</td>\n",
       "      <td>-0.552351</td>\n",
       "      <td>-0.521176</td>\n",
       "      <td>-1.480212</td>\n",
       "      <td>1.112003</td>\n",
       "      <td>-0.181554</td>\n",
       "      <td>0.991759</td>\n",
       "      <td>-0.117752</td>\n",
       "      <td>2.616399</td>\n",
       "      <td>-0.043817</td>\n",
       "      <td>-0.194165</td>\n",
       "      <td>1.080337</td>\n",
       "      <td>1.656183</td>\n",
       "      <td>1.954013</td>\n",
       "      <td>-0.088845</td>\n",
       "      <td>-0.202861</td>\n",
       "      <td>0.0</td>\n",
       "      <td>0.0</td>\n",
       "      <td>0.0</td>\n",
       "    </tr>\n",
       "    <tr>\n",
       "      <th>747410</th>\n",
       "      <td>-0.185353</td>\n",
       "      <td>-0.581824</td>\n",
       "      <td>-0.552351</td>\n",
       "      <td>-0.521176</td>\n",
       "      <td>0.608914</td>\n",
       "      <td>-0.084400</td>\n",
       "      <td>-2.961006</td>\n",
       "      <td>-0.271325</td>\n",
       "      <td>0.104780</td>\n",
       "      <td>0.818043</td>\n",
       "      <td>-0.043817</td>\n",
       "      <td>-0.194165</td>\n",
       "      <td>0.135329</td>\n",
       "      <td>-0.301229</td>\n",
       "      <td>-0.451325</td>\n",
       "      <td>-0.240071</td>\n",
       "      <td>-0.202861</td>\n",
       "      <td>0.0</td>\n",
       "      <td>0.0</td>\n",
       "      <td>0.0</td>\n",
       "    </tr>\n",
       "  </tbody>\n",
       "</table>\n",
       "<p>747411 rows × 20 columns</p>\n",
       "</div>"
      ],
      "text/plain": [
       "         Montant  VerifianceCPT1  VerifianceCPT2  VerifianceCPT3      D2CB  \\\n",
       "0       0.002838       -0.581824       -0.552351       -0.521176 -0.113197   \n",
       "1      -0.367410       -0.581824       -0.552351       -0.521176  0.999490   \n",
       "2      -0.293360       -0.581824       -0.552351       -0.521176 -0.794433   \n",
       "3      -0.410993       -0.581824       -0.552351       -0.521176  0.300087   \n",
       "4      -0.418081       -0.581824       -0.552351       -0.521176 -0.794433   \n",
       "...          ...             ...             ...             ...       ...   \n",
       "747406 -0.378623       -0.581824       -0.552351       -0.521176 -1.480212   \n",
       "747407  0.347698       -0.581824       -0.552351       -0.521176  0.849618   \n",
       "747408  0.098045       -0.581824       -0.552351       -0.521176 -1.480212   \n",
       "747409 -0.020434       -0.581824       -0.552351       -0.521176 -1.480212   \n",
       "747410 -0.185353       -0.581824       -0.552351       -0.521176  0.608914   \n",
       "\n",
       "        ScoringFP1  ScoringFP2  ScoringFP3  TauxImpNb_RB  TauxImpNB_CPM  \\\n",
       "0        -0.084590   -0.239505   -0.275801      0.104780       0.818043   \n",
       "1        -0.084590   -0.239505   -0.275801      0.562636       0.818043   \n",
       "2        -0.084590   -0.239505   -0.275801      0.104780       0.818043   \n",
       "3        -0.084276   -0.220902   -0.271244      0.101057      -0.259327   \n",
       "4        -0.083803   -0.344082   -0.263424      0.104780       0.818043   \n",
       "...            ...         ...         ...           ...            ...   \n",
       "747406    0.113655   -2.540800    4.016041      0.050403       0.275354   \n",
       "747407   -0.082103   -0.467809   -0.269084      2.113782      -0.097657   \n",
       "747408    0.065774   -0.348018    1.447105      0.554204       0.818043   \n",
       "747409    1.112003   -0.181554    0.991759     -0.117752       2.616399   \n",
       "747410   -0.084400   -2.961006   -0.271325      0.104780       0.818043   \n",
       "\n",
       "        EcartNumCheq  NbrMagasin3J  DiffDateTr1  DiffDateTr2  DiffDateTr3  \\\n",
       "0          -0.043817     -0.194165     0.135329    -0.301229    -0.451325   \n",
       "1          -0.043817     -0.194165     0.135329    -0.301229    -0.451325   \n",
       "2          -0.043817     -0.194165     0.135329    -0.301229    -0.451325   \n",
       "3          -0.043797     -0.194165    -3.102777    -6.176976    -6.370488   \n",
       "4          -0.043817     -0.194165     0.135329    -0.301229    -0.451325   \n",
       "...              ...           ...          ...          ...          ...   \n",
       "747406     -0.043817     -0.194165     1.080337     1.656183     1.954013   \n",
       "747407     -0.043812      4.975724    -2.665722    -0.301229    -0.451325   \n",
       "747408     -0.043817     -0.194165     1.080337     1.656183     1.954013   \n",
       "747409     -0.043817     -0.194165     1.080337     1.656183     1.954013   \n",
       "747410     -0.043817     -0.194165     0.135329    -0.301229    -0.451325   \n",
       "\n",
       "        CA3TRetMtt     CA3TR  CodeDecision_1  CodeDecision_2  CodeDecision_3  \n",
       "0        -0.067504 -0.202861             0.0             0.0             0.0  \n",
       "1        -0.407012 -0.202861             0.0             0.0             0.0  \n",
       "2        -0.339111 -0.202861             0.0             0.0             0.0  \n",
       "3         0.246686  1.804313             0.0             0.0             0.0  \n",
       "4        -0.453476 -0.202861             0.0             0.0             0.0  \n",
       "...            ...       ...             ...             ...             ...  \n",
       "747406   -0.417294 -0.202861             0.0             0.0             0.0  \n",
       "747407    1.896305  4.564563             0.0             0.0             0.0  \n",
       "747408    0.019798 -0.202861             0.0             0.0             0.0  \n",
       "747409   -0.088845 -0.202861             0.0             0.0             0.0  \n",
       "747410   -0.240071 -0.202861             0.0             0.0             0.0  \n",
       "\n",
       "[747411 rows x 20 columns]"
      ]
     },
     "execution_count": 63,
     "metadata": {},
     "output_type": "execute_result"
    }
   ],
   "source": [
    "XTest_prep"
   ]
  },
  {
   "cell_type": "code",
   "execution_count": 68,
   "id": "277a9943-82c2-4ff3-b4a3-0a5cec3cf848",
   "metadata": {},
   "outputs": [],
   "source": [
    "# Sauvegarde des données\n",
    "\n",
    "#with open('XTrain_prep', 'wb') as f1:\n",
    "#    pickle.dump(XTrain_prep, f1)\n",
    "\n",
    "#with open('XTest_prep', 'wb') as f2:\n",
    "#    pickle.dump(XTest_prep, f2)"
   ]
  },
  {
   "cell_type": "code",
   "execution_count": 87,
   "id": "4790e308-b0fc-4422-bd19-0db7348d1560",
   "metadata": {},
   "outputs": [],
   "source": [
    "# Chargement des données\n",
    "with open('XTrain_prep', 'rb') as f1:\n",
    "     XTrain = pickle.load(f1,encoding=\"utf8\")\n",
    "        \n",
    "with open('XTest_prep', 'rb') as f2:\n",
    "     XTest = pickle.load(f2,encoding=\"utf8\")"
   ]
  },
  {
   "cell_type": "code",
   "execution_count": 16,
   "id": "492ff604-d3f4-4b5d-81c6-8f11c4490c61",
   "metadata": {},
   "outputs": [
    {
     "data": {
      "text/html": [
       "<div>\n",
       "<style scoped>\n",
       "    .dataframe tbody tr th:only-of-type {\n",
       "        vertical-align: middle;\n",
       "    }\n",
       "\n",
       "    .dataframe tbody tr th {\n",
       "        vertical-align: top;\n",
       "    }\n",
       "\n",
       "    .dataframe thead th {\n",
       "        text-align: right;\n",
       "    }\n",
       "</style>\n",
       "<table border=\"1\" class=\"dataframe\">\n",
       "  <thead>\n",
       "    <tr style=\"text-align: right;\">\n",
       "      <th></th>\n",
       "      <th>Montant</th>\n",
       "      <th>VerifianceCPT1</th>\n",
       "      <th>VerifianceCPT2</th>\n",
       "      <th>VerifianceCPT3</th>\n",
       "      <th>D2CB</th>\n",
       "      <th>ScoringFP1</th>\n",
       "      <th>ScoringFP2</th>\n",
       "      <th>ScoringFP3</th>\n",
       "      <th>TauxImpNb_RB</th>\n",
       "      <th>TauxImpNB_CPM</th>\n",
       "      <th>EcartNumCheq</th>\n",
       "      <th>NbrMagasin3J</th>\n",
       "      <th>DiffDateTr1</th>\n",
       "      <th>DiffDateTr2</th>\n",
       "      <th>DiffDateTr3</th>\n",
       "      <th>CA3TRetMtt</th>\n",
       "      <th>CA3TR</th>\n",
       "      <th>CodeDecision_1</th>\n",
       "      <th>CodeDecision_2</th>\n",
       "      <th>CodeDecision_3</th>\n",
       "    </tr>\n",
       "  </thead>\n",
       "  <tbody>\n",
       "    <tr>\n",
       "      <th>0</th>\n",
       "      <td>-0.420302</td>\n",
       "      <td>-0.581824</td>\n",
       "      <td>-0.552351</td>\n",
       "      <td>-0.521176</td>\n",
       "      <td>1.017656</td>\n",
       "      <td>-0.084590</td>\n",
       "      <td>-0.239505</td>\n",
       "      <td>-0.275801</td>\n",
       "      <td>-0.030212</td>\n",
       "      <td>0.818043</td>\n",
       "      <td>-0.043817</td>\n",
       "      <td>-0.194165</td>\n",
       "      <td>0.135329</td>\n",
       "      <td>-0.301229</td>\n",
       "      <td>-0.451325</td>\n",
       "      <td>-0.455513</td>\n",
       "      <td>-0.202861</td>\n",
       "      <td>1.0</td>\n",
       "      <td>0.0</td>\n",
       "      <td>0.0</td>\n",
       "    </tr>\n",
       "    <tr>\n",
       "      <th>1</th>\n",
       "      <td>-0.420302</td>\n",
       "      <td>-0.581824</td>\n",
       "      <td>-0.552351</td>\n",
       "      <td>-0.521176</td>\n",
       "      <td>1.017656</td>\n",
       "      <td>-0.084590</td>\n",
       "      <td>-0.239505</td>\n",
       "      <td>-0.275801</td>\n",
       "      <td>0.162138</td>\n",
       "      <td>0.818043</td>\n",
       "      <td>-0.043812</td>\n",
       "      <td>4.975724</td>\n",
       "      <td>-1.945875</td>\n",
       "      <td>-0.301229</td>\n",
       "      <td>-0.451325</td>\n",
       "      <td>-0.371994</td>\n",
       "      <td>0.038808</td>\n",
       "      <td>1.0</td>\n",
       "      <td>0.0</td>\n",
       "      <td>0.0</td>\n",
       "    </tr>\n",
       "    <tr>\n",
       "      <th>2</th>\n",
       "      <td>-0.022127</td>\n",
       "      <td>-0.581824</td>\n",
       "      <td>-0.552351</td>\n",
       "      <td>-0.521176</td>\n",
       "      <td>1.008573</td>\n",
       "      <td>-0.084590</td>\n",
       "      <td>-0.239505</td>\n",
       "      <td>-0.275801</td>\n",
       "      <td>0.562636</td>\n",
       "      <td>0.818043</td>\n",
       "      <td>-0.043817</td>\n",
       "      <td>-0.194165</td>\n",
       "      <td>0.135329</td>\n",
       "      <td>-0.301229</td>\n",
       "      <td>-0.451325</td>\n",
       "      <td>-0.090397</td>\n",
       "      <td>-0.202861</td>\n",
       "      <td>1.0</td>\n",
       "      <td>0.0</td>\n",
       "      <td>0.0</td>\n",
       "    </tr>\n",
       "    <tr>\n",
       "      <th>3</th>\n",
       "      <td>-0.057565</td>\n",
       "      <td>1.545332</td>\n",
       "      <td>1.337233</td>\n",
       "      <td>1.088824</td>\n",
       "      <td>-0.272152</td>\n",
       "      <td>-0.084590</td>\n",
       "      <td>-0.239505</td>\n",
       "      <td>-0.275801</td>\n",
       "      <td>1.172099</td>\n",
       "      <td>0.906727</td>\n",
       "      <td>-0.043817</td>\n",
       "      <td>-0.194165</td>\n",
       "      <td>0.135329</td>\n",
       "      <td>-0.301229</td>\n",
       "      <td>-0.451325</td>\n",
       "      <td>-0.122893</td>\n",
       "      <td>-0.202861</td>\n",
       "      <td>0.0</td>\n",
       "      <td>0.0</td>\n",
       "      <td>0.0</td>\n",
       "    </tr>\n",
       "    <tr>\n",
       "      <th>4</th>\n",
       "      <td>-0.347310</td>\n",
       "      <td>-0.581824</td>\n",
       "      <td>-0.552351</td>\n",
       "      <td>-0.521176</td>\n",
       "      <td>1.008573</td>\n",
       "      <td>-0.084434</td>\n",
       "      <td>0.637044</td>\n",
       "      <td>-0.273204</td>\n",
       "      <td>0.104780</td>\n",
       "      <td>0.818043</td>\n",
       "      <td>-0.043812</td>\n",
       "      <td>-0.194165</td>\n",
       "      <td>-1.757421</td>\n",
       "      <td>-0.301229</td>\n",
       "      <td>-0.451325</td>\n",
       "      <td>-0.075750</td>\n",
       "      <td>0.702346</td>\n",
       "      <td>1.0</td>\n",
       "      <td>0.0</td>\n",
       "      <td>0.0</td>\n",
       "    </tr>\n",
       "    <tr>\n",
       "      <th>...</th>\n",
       "      <td>...</td>\n",
       "      <td>...</td>\n",
       "      <td>...</td>\n",
       "      <td>...</td>\n",
       "      <td>...</td>\n",
       "      <td>...</td>\n",
       "      <td>...</td>\n",
       "      <td>...</td>\n",
       "      <td>...</td>\n",
       "      <td>...</td>\n",
       "      <td>...</td>\n",
       "      <td>...</td>\n",
       "      <td>...</td>\n",
       "      <td>...</td>\n",
       "      <td>...</td>\n",
       "      <td>...</td>\n",
       "      <td>...</td>\n",
       "      <td>...</td>\n",
       "      <td>...</td>\n",
       "      <td>...</td>\n",
       "    </tr>\n",
       "    <tr>\n",
       "      <th>3899357</th>\n",
       "      <td>-0.294418</td>\n",
       "      <td>-0.581824</td>\n",
       "      <td>-0.552351</td>\n",
       "      <td>-0.521176</td>\n",
       "      <td>0.658872</td>\n",
       "      <td>-0.081791</td>\n",
       "      <td>-0.410249</td>\n",
       "      <td>-0.216641</td>\n",
       "      <td>0.366548</td>\n",
       "      <td>0.818043</td>\n",
       "      <td>-0.043817</td>\n",
       "      <td>-0.194165</td>\n",
       "      <td>0.135329</td>\n",
       "      <td>-0.301229</td>\n",
       "      <td>-0.451325</td>\n",
       "      <td>-0.340081</td>\n",
       "      <td>-0.202861</td>\n",
       "      <td>0.0</td>\n",
       "      <td>0.0</td>\n",
       "      <td>0.0</td>\n",
       "    </tr>\n",
       "    <tr>\n",
       "      <th>3899358</th>\n",
       "      <td>-0.057988</td>\n",
       "      <td>-0.581824</td>\n",
       "      <td>-0.552351</td>\n",
       "      <td>-0.521176</td>\n",
       "      <td>0.917742</td>\n",
       "      <td>-0.084059</td>\n",
       "      <td>0.707214</td>\n",
       "      <td>-0.273203</td>\n",
       "      <td>0.104780</td>\n",
       "      <td>0.818043</td>\n",
       "      <td>-0.043817</td>\n",
       "      <td>-0.194165</td>\n",
       "      <td>0.135329</td>\n",
       "      <td>-0.301229</td>\n",
       "      <td>-0.451325</td>\n",
       "      <td>-0.123281</td>\n",
       "      <td>-0.202861</td>\n",
       "      <td>0.0</td>\n",
       "      <td>0.0</td>\n",
       "      <td>0.0</td>\n",
       "    </tr>\n",
       "    <tr>\n",
       "      <th>3899359</th>\n",
       "      <td>-0.440507</td>\n",
       "      <td>-0.581824</td>\n",
       "      <td>-0.552351</td>\n",
       "      <td>-0.521176</td>\n",
       "      <td>-0.222195</td>\n",
       "      <td>-0.083916</td>\n",
       "      <td>-1.536879</td>\n",
       "      <td>-0.263031</td>\n",
       "      <td>0.757875</td>\n",
       "      <td>0.818043</td>\n",
       "      <td>-0.043817</td>\n",
       "      <td>-0.194165</td>\n",
       "      <td>0.135329</td>\n",
       "      <td>-0.301229</td>\n",
       "      <td>-0.451325</td>\n",
       "      <td>-0.474041</td>\n",
       "      <td>-0.202861</td>\n",
       "      <td>0.0</td>\n",
       "      <td>0.0</td>\n",
       "      <td>0.0</td>\n",
       "    </tr>\n",
       "    <tr>\n",
       "      <th>3899360</th>\n",
       "      <td>0.370230</td>\n",
       "      <td>-0.581824</td>\n",
       "      <td>-0.552351</td>\n",
       "      <td>-0.521176</td>\n",
       "      <td>-1.362131</td>\n",
       "      <td>-0.074905</td>\n",
       "      <td>-0.343666</td>\n",
       "      <td>-0.213763</td>\n",
       "      <td>-0.030212</td>\n",
       "      <td>0.818043</td>\n",
       "      <td>4.131997</td>\n",
       "      <td>-0.194165</td>\n",
       "      <td>-1.755944</td>\n",
       "      <td>-0.301229</td>\n",
       "      <td>-0.451325</td>\n",
       "      <td>0.580276</td>\n",
       "      <td>0.696732</td>\n",
       "      <td>0.0</td>\n",
       "      <td>0.0</td>\n",
       "      <td>0.0</td>\n",
       "    </tr>\n",
       "    <tr>\n",
       "      <th>3899361</th>\n",
       "      <td>-0.181334</td>\n",
       "      <td>-0.581824</td>\n",
       "      <td>-0.552351</td>\n",
       "      <td>-0.521176</td>\n",
       "      <td>-0.208570</td>\n",
       "      <td>-0.084142</td>\n",
       "      <td>-1.543678</td>\n",
       "      <td>-0.269355</td>\n",
       "      <td>0.012733</td>\n",
       "      <td>1.933509</td>\n",
       "      <td>-0.043817</td>\n",
       "      <td>-0.194165</td>\n",
       "      <td>0.135329</td>\n",
       "      <td>-0.301229</td>\n",
       "      <td>-0.451325</td>\n",
       "      <td>-0.236385</td>\n",
       "      <td>-0.202861</td>\n",
       "      <td>0.0</td>\n",
       "      <td>0.0</td>\n",
       "      <td>0.0</td>\n",
       "    </tr>\n",
       "  </tbody>\n",
       "</table>\n",
       "<p>3899362 rows × 20 columns</p>\n",
       "</div>"
      ],
      "text/plain": [
       "          Montant  VerifianceCPT1  VerifianceCPT2  VerifianceCPT3      D2CB  \\\n",
       "0       -0.420302       -0.581824       -0.552351       -0.521176  1.017656   \n",
       "1       -0.420302       -0.581824       -0.552351       -0.521176  1.017656   \n",
       "2       -0.022127       -0.581824       -0.552351       -0.521176  1.008573   \n",
       "3       -0.057565        1.545332        1.337233        1.088824 -0.272152   \n",
       "4       -0.347310       -0.581824       -0.552351       -0.521176  1.008573   \n",
       "...           ...             ...             ...             ...       ...   \n",
       "3899357 -0.294418       -0.581824       -0.552351       -0.521176  0.658872   \n",
       "3899358 -0.057988       -0.581824       -0.552351       -0.521176  0.917742   \n",
       "3899359 -0.440507       -0.581824       -0.552351       -0.521176 -0.222195   \n",
       "3899360  0.370230       -0.581824       -0.552351       -0.521176 -1.362131   \n",
       "3899361 -0.181334       -0.581824       -0.552351       -0.521176 -0.208570   \n",
       "\n",
       "         ScoringFP1  ScoringFP2  ScoringFP3  TauxImpNb_RB  TauxImpNB_CPM  \\\n",
       "0         -0.084590   -0.239505   -0.275801     -0.030212       0.818043   \n",
       "1         -0.084590   -0.239505   -0.275801      0.162138       0.818043   \n",
       "2         -0.084590   -0.239505   -0.275801      0.562636       0.818043   \n",
       "3         -0.084590   -0.239505   -0.275801      1.172099       0.906727   \n",
       "4         -0.084434    0.637044   -0.273204      0.104780       0.818043   \n",
       "...             ...         ...         ...           ...            ...   \n",
       "3899357   -0.081791   -0.410249   -0.216641      0.366548       0.818043   \n",
       "3899358   -0.084059    0.707214   -0.273203      0.104780       0.818043   \n",
       "3899359   -0.083916   -1.536879   -0.263031      0.757875       0.818043   \n",
       "3899360   -0.074905   -0.343666   -0.213763     -0.030212       0.818043   \n",
       "3899361   -0.084142   -1.543678   -0.269355      0.012733       1.933509   \n",
       "\n",
       "         EcartNumCheq  NbrMagasin3J  DiffDateTr1  DiffDateTr2  DiffDateTr3  \\\n",
       "0           -0.043817     -0.194165     0.135329    -0.301229    -0.451325   \n",
       "1           -0.043812      4.975724    -1.945875    -0.301229    -0.451325   \n",
       "2           -0.043817     -0.194165     0.135329    -0.301229    -0.451325   \n",
       "3           -0.043817     -0.194165     0.135329    -0.301229    -0.451325   \n",
       "4           -0.043812     -0.194165    -1.757421    -0.301229    -0.451325   \n",
       "...               ...           ...          ...          ...          ...   \n",
       "3899357     -0.043817     -0.194165     0.135329    -0.301229    -0.451325   \n",
       "3899358     -0.043817     -0.194165     0.135329    -0.301229    -0.451325   \n",
       "3899359     -0.043817     -0.194165     0.135329    -0.301229    -0.451325   \n",
       "3899360      4.131997     -0.194165    -1.755944    -0.301229    -0.451325   \n",
       "3899361     -0.043817     -0.194165     0.135329    -0.301229    -0.451325   \n",
       "\n",
       "         CA3TRetMtt     CA3TR  CodeDecision_1  CodeDecision_2  CodeDecision_3  \n",
       "0         -0.455513 -0.202861             1.0             0.0             0.0  \n",
       "1         -0.371994  0.038808             1.0             0.0             0.0  \n",
       "2         -0.090397 -0.202861             1.0             0.0             0.0  \n",
       "3         -0.122893 -0.202861             0.0             0.0             0.0  \n",
       "4         -0.075750  0.702346             1.0             0.0             0.0  \n",
       "...             ...       ...             ...             ...             ...  \n",
       "3899357   -0.340081 -0.202861             0.0             0.0             0.0  \n",
       "3899358   -0.123281 -0.202861             0.0             0.0             0.0  \n",
       "3899359   -0.474041 -0.202861             0.0             0.0             0.0  \n",
       "3899360    0.580276  0.696732             0.0             0.0             0.0  \n",
       "3899361   -0.236385 -0.202861             0.0             0.0             0.0  \n",
       "\n",
       "[3899362 rows x 20 columns]"
      ]
     },
     "execution_count": 16,
     "metadata": {},
     "output_type": "execute_result"
    }
   ],
   "source": [
    "XTrain"
   ]
  },
  {
   "cell_type": "markdown",
   "id": "8472db9a-f954-4ff4-b985-82e4560719cb",
   "metadata": {},
   "source": [
    "## 7. Machine learning"
   ]
  },
  {
   "cell_type": "code",
   "execution_count": 132,
   "id": "6d7c9d00-b2d6-4fd0-accf-79bb84d7bd79",
   "metadata": {},
   "outputs": [],
   "source": [
    "from sklearn.metrics import confusion_matrix, accuracy_score, f1_score\n",
    "import matplotlib.pyplot as plt\n",
    "import seaborn as sns\n",
    "\n",
    "from sklearn.ensemble import RandomForestClassifier, IsolationForest"
   ]
  },
  {
   "cell_type": "code",
   "execution_count": 153,
   "id": "cd85520a-9adc-4242-9924-84a6ee7254b1",
   "metadata": {},
   "outputs": [],
   "source": [
    "def plot_confusion_matrix(yTest,y_pred,title):\n",
    "    cm = confusion_matrix(yTest, y_pred,labels=[1,0])\n",
    "    cm_df = pd.DataFrame(cm,\n",
    "                         index = ['Refus', 'Acceptation'],\n",
    "                         columns = ['Refus', 'Acceptation'])\n",
    "    plt.figure(figsize=(8,6))\n",
    "    sns.heatmap(cm_df, annot=True,fmt='g',cmap='Blues')\n",
    "    plt.title(title + '\\nf1_score:{0:.3f}'.format(f1_score(yTest, y_pred,average='binary')))\n",
    "    plt.ylabel('True Values')\n",
    "    plt.xlabel('Predicted Values')\n",
    "    plt.show()"
   ]
  },
  {
   "cell_type": "markdown",
   "id": "0a043423-0100-4eda-8637-88a76676732e",
   "metadata": {},
   "source": [
    "La variable à prédire est la variable FlagImpaye, il s’agit d’une variable qui ne peut prendre que deux valeurs possibles : \n",
    "\n",
    "* 0 la transaction est acceptée et considérée comme \"normale\", \n",
    "* 1 la transaction est refusée car considérée comme \"frauduleuse\".\n",
    "\n",
    "Plusieurs critères peuvent être utilisées pour évaluer la performance d’un modèle comme l’Accuracy, la précision, le rappel, la F-mesure ou encore l’aire sous la courbe ROC (AUC ROC). \n",
    "\n",
    "Dans le cas présent, nous cherchons à établir le modèle nous permettant d’obtenir les meilleurs résultats en classiﬁcation en terme de F-mesure dont la formule est :  \n",
    "\n",
    "$2\\frac{précision \\cdot rappel}{précision + rappel}$ = $\\frac{2TP}{2TP+FN+FP}$"
   ]
  },
  {
   "cell_type": "markdown",
   "id": "f63c40d2-3af3-44b0-ae4c-f4ec70fc112b",
   "metadata": {},
   "source": [
    "## 7.1 Ré-echantillonnage"
   ]
  },
  {
   "cell_type": "markdown",
   "id": "10566246-2525-466b-94b7-cabb85cd9d34",
   "metadata": {},
   "source": [
    "En présence de données déséquilibrées, ce qui est notre cas, les phases d'apprentissage et de prédiction des algorithmes de machine learning peuvent être affectées. \n",
    "\n",
    "En effet, la fonction de décision de ces algorithmes favorisera la classe avec le plus grand nombre d'échantillions, c'est à dire la classe majoritaire. \n",
    "\n",
    "Une façon de lutter contre ce problème est d'utiliser des critères de performances adaptés au déséquilibre ainsi que des méthodes de ré-échantillonage des données pour se rapprocher d'une stuation d'équilibre et ainsi aider les algorithmes à mieux détecter la classe minoritaire, dans notre cas les transactions frauduleuses. \n",
    "\n",
    "Pour ce faire, il existe des méthodes d'oversampling consistant à créer de nouvelles observations de la classe minoritaire : \n",
    "\n",
    "\n",
    "Oversampling :  smote, adasyn\n",
    "Undersampling : tomkerlink\n",
    "Combinaison d'oversampling et d'undersampling. "
   ]
  },
  {
   "cell_type": "markdown",
   "id": "13dbf4a5-762b-4da2-a09d-a99f7543e5ab",
   "metadata": {
    "id": "muALjiPrxUb5"
   },
   "source": [
    "### Algorithme Adasyn"
   ]
  },
  {
   "cell_type": "markdown",
   "id": "a6302bb1-8f4d-473e-a756-21cd05cd9b87",
   "metadata": {},
   "source": [
    "Une façon de lutter contre ce problème est de générer de nouveaux échantillons dans les classes sous-représentées.\n",
    "\n",
    "La stratégie la plus naïve consiste à générer de nouveaux échantillons en échantillonnant au hasard avec remplacement les échantillons actuellement disponibles. Outre l'échantillonnage aléatoire avec remise, il existe deux méthodes courantes pour suréchantillonner les classes minoritaires : (i) la technique de suréchantillonnage des minorités synthétiques (SMOTE) (ii) la méthode d'échantillonnage synthétique adaptative (ADASYN)\n",
    "\n",
    "Alors que le RandomOverSampler sur-échantillonne en dupliquant certains des échantillons originaux de la classe minoritaire, SMOTEet ADASYN génère de nouveaux échantillons par interpolation. Cependant, les échantillons utilisés pour interpoler/générer de nouveaux échantillons synthétiques diffèrent.\n",
    "\n",
    "En fait, dans Adasyn, l'accent est mis sur la génération d'échantillons à côté des échantillons d'origine qui sont classés à tort à l'aide d'un classificateur des k-plus proches voisins alors que l'implémentation de base de SMOTE ne fera aucune distinction entre les échantillons faciles et difficiles à classer à l'aide de la règle des voisins les plus proches. Par conséquent, la fonction de décision trouvée lors de l'apprentissage sera différente selon les algorithmes.\n",
    "\n",
    "SMOTE peut connecter des valeurs aberrantes et des valeurs aberrantes tandis qu'ADASYN peut se concentrer uniquement sur les valeurs aberrantes, ce qui, dans les deux cas, peut conduire à une fonction de décision sous-optimale. À cet égard, SMOTE propose trois options supplémentaires pour générer des échantillons. Ces méthodes se concentrent sur des échantillons proches de la frontière de la fonction de décision optimale et généreront des échantillons dans la direction opposée de la classe des voisins les plus proches.\n",
    "\n",
    "Les deux SMOTEet ADASY Nutilisent le même algorithme pour générer de nouveaux échantillons. En considérant un échantillon x_i, un nouvel échantillon x_{nouveau}sera généré en considérant ses k plus proches voisins (correspondant à k_neighbors).\n",
    "\n",
    "Suréchantillonnage à l'aide de l'algorithme Adaptive Synthetic (ADASYN). Cette méthode est similaire à SMOTE mais elle génère un nombre d'échantillons différent en fonction d'une estimation de la distribution locale de la classe à suréchantillonner."
   ]
  },
  {
   "cell_type": "code",
   "execution_count": 24,
   "id": "mbpnl-H2mjly",
   "metadata": {
    "id": "mbpnl-H2mjly"
   },
   "outputs": [],
   "source": [
    "ada = ADASYN(random_state=42,sampling_strategy=0.5,n_jobs=-1)"
   ]
  },
  {
   "cell_type": "code",
   "execution_count": 25,
   "id": "TzWasv6QmjoI",
   "metadata": {
    "id": "TzWasv6QmjoI"
   },
   "outputs": [
    {
     "name": "stdout",
     "output_type": "stream",
     "text": [
      "Wall time: 35min 49s\n"
     ]
    }
   ],
   "source": [
    "%%time\n",
    "X_res, y_res = ada.fit_resample(XTrain, yTrain)"
   ]
  },
  {
   "cell_type": "code",
   "execution_count": 27,
   "id": "8a96681b-20da-4d18-b749-424b8d93b101",
   "metadata": {},
   "outputs": [],
   "source": [
    "#with open('XTrain_Adaysn_0.5', 'wb') as f1:\n",
    "#    pickle.dump(X_res, f1)\n",
    "    \n",
    "#with open('yTrain_Adaysn_0.5', 'wb') as f2:\n",
    "#    pickle.dump(y_res, f2)"
   ]
  },
  {
   "cell_type": "code",
   "execution_count": 70,
   "id": "fa0b0309-3a37-4601-941c-3047d1090ba9",
   "metadata": {},
   "outputs": [],
   "source": [
    "with open('XTrain_Adaysn_0.5', 'rb') as f1:\n",
    "     XTrain_Adasyn = pickle.load(f1,encoding=\"utf8\")\n",
    "    \n",
    "with open('yTrain_Adaysn_0.5', 'rb') as f2:\n",
    "     yTrain_Adasyn = pickle.load(f2,encoding=\"utf8\")"
   ]
  },
  {
   "cell_type": "code",
   "execution_count": 122,
   "id": "615063e9-7160-403c-a4db-77c184d4b40f",
   "metadata": {},
   "outputs": [
    {
     "data": {
      "text/plain": [
       "Counter({0: 3875940, 1: 23422})"
      ]
     },
     "execution_count": 122,
     "metadata": {},
     "output_type": "execute_result"
    }
   ],
   "source": [
    "Counter(yTrain)"
   ]
  },
  {
   "cell_type": "code",
   "execution_count": 71,
   "id": "441dc252-1fe7-4a5e-896d-e441de6905d2",
   "metadata": {},
   "outputs": [
    {
     "data": {
      "text/plain": [
       "Counter({0: 3875940, 1: 1937482})"
      ]
     },
     "execution_count": 71,
     "metadata": {},
     "output_type": "execute_result"
    }
   ],
   "source": [
    "Counter(yTrain_Adasyn)"
   ]
  },
  {
   "cell_type": "markdown",
   "id": "3bd57c92-697e-4c45-a5c9-c32d9825ff01",
   "metadata": {},
   "source": [
    "## Adasyn + Random Forest"
   ]
  },
  {
   "cell_type": "markdown",
   "id": "43495dc6-55ea-4bf9-badc-10776ad0dad6",
   "metadata": {},
   "source": [
    "Random Forest est un algorithme de Bagging. \n",
    "\n",
    "IL est composé de plusieurs arbres de décision (de mêmes paramètres), chacun travaillant de manière indépendante sur une partie aléatoire du jeu de donnée d'entrainement. \n",
    "\n",
    "\n",
    "Dans sklearn par défaut, la forêt est composée de 100 arbres. "
   ]
  },
  {
   "cell_type": "code",
   "execution_count": 100,
   "id": "7e995262-94ff-4a41-87d1-53e5ae5aaf31",
   "metadata": {},
   "outputs": [],
   "source": [
    "from joblib import dump, load"
   ]
  },
  {
   "cell_type": "code",
   "execution_count": 36,
   "id": "2c328fec-04cf-4fd6-aa27-ed7c14ce9f82",
   "metadata": {},
   "outputs": [],
   "source": [
    "clf = RandomForestClassifier(random_state=42,n_jobs=-1)"
   ]
  },
  {
   "cell_type": "code",
   "execution_count": 72,
   "id": "22e95684-f3e4-41f4-a11c-a6760a4c0022",
   "metadata": {},
   "outputs": [
    {
     "name": "stdout",
     "output_type": "stream",
     "text": [
      "Wall time: 6min 26s\n"
     ]
    }
   ],
   "source": [
    "%%time\n",
    "clf.fit(XTrain_Adasyn, yTrain_Adasyn)"
   ]
  },
  {
   "cell_type": "code",
   "execution_count": 113,
   "id": "73a99067-a3dc-43ec-a16c-1fd91f0911ca",
   "metadata": {},
   "outputs": [
    {
     "data": {
      "text/plain": [
       "{'bootstrap': True,\n",
       " 'ccp_alpha': 0.0,\n",
       " 'class_weight': None,\n",
       " 'criterion': 'gini',\n",
       " 'max_depth': None,\n",
       " 'max_features': 'auto',\n",
       " 'max_leaf_nodes': None,\n",
       " 'max_samples': None,\n",
       " 'min_impurity_decrease': 0.0,\n",
       " 'min_samples_leaf': 1,\n",
       " 'min_samples_split': 2,\n",
       " 'min_weight_fraction_leaf': 0.0,\n",
       " 'n_estimators': 100,\n",
       " 'n_jobs': -1,\n",
       " 'oob_score': False,\n",
       " 'random_state': 42,\n",
       " 'verbose': 0,\n",
       " 'warm_start': False}"
      ]
     },
     "execution_count": 113,
     "metadata": {},
     "output_type": "execute_result"
    }
   ],
   "source": [
    "clf.get_params()"
   ]
  },
  {
   "cell_type": "code",
   "execution_count": 129,
   "id": "06066fbe-9ceb-4135-a6fb-dffe51c5e16e",
   "metadata": {},
   "outputs": [],
   "source": [
    "#dump(clf, 'adasyn+random_forest.joblib') \n",
    "clf = load('adasyn+random_forest.joblib')"
   ]
  },
  {
   "cell_type": "code",
   "execution_count": 130,
   "id": "4a928eeb-ea79-4fc5-bd18-24a1a44aa169",
   "metadata": {},
   "outputs": [],
   "source": [
    "y_pred = clf.predict(XTest)"
   ]
  },
  {
   "cell_type": "code",
   "execution_count": 131,
   "id": "482a89bf-1dce-4e9c-afb0-b59346071dda",
   "metadata": {},
   "outputs": [
    {
     "data": {
      "image/png": "[encoded data removed]",
      "text/plain": [
       "<Figure size 576x432 with 2 Axes>"
      ]
     },
     "metadata": {
      "needs_background": "light"
     },
     "output_type": "display_data"
    }
   ],
   "source": [
    "plot_confusion_matrix(yTest,y_pred,\"Adasyn + Random Forest (paramètres par défaut)\")"
   ]
  },
  {
   "cell_type": "code",
   "execution_count": 111,
   "id": "763f559c-9f82-48e1-ae7c-0161164530a7",
   "metadata": {},
   "outputs": [
    {
     "data": {
      "text/plain": [
       "Counter({0: 740838, 1: 6573})"
      ]
     },
     "execution_count": 111,
     "metadata": {},
     "output_type": "execute_result"
    }
   ],
   "source": [
    "Counter(yTest)"
   ]
  },
  {
   "cell_type": "markdown",
   "id": "48537789-113e-4581-b93b-4b211a67a9a8",
   "metadata": {},
   "source": [
    "Dans notre échantillon de test, nous avons :\n",
    "- 740 838 transactions normales\n",
    "- 6573 transactions frauduleuses\n",
    "\n",
    "TP = 4474 fraudes ont été correctement prédites / 6573  \n",
    "TN = 739 636 transactions normales correctement prédites / 740 838  \n",
    "FP = 1202 transactions normales ont été prédites comme frauduleuses  \n",
    "FN = 2099 transactions frauduleuse ont été prédites comme normales  \n",
    "\n",
    "F Mesure = 2(4474) /(2(4474) + 1202 + 2099) = 8948/12249 = 0.73"
   ]
  },
  {
   "cell_type": "markdown",
   "id": "5ac23467-395c-4648-a426-8d01fd79b117",
   "metadata": {},
   "source": [
    "## Random Forest seul "
   ]
  },
  {
   "cell_type": "code",
   "execution_count": null,
   "id": "613d11e6-ab53-42a4-a31f-5a68c8e4a2b9",
   "metadata": {},
   "outputs": [],
   "source": [
    "Random_Forest_Parameters = {\n",
    "    'criterion' : ['gini','entropie']\n",
    "}"
   ]
  },
  {
   "cell_type": "code",
   "execution_count": 120,
   "id": "8ee5186f-6f1f-437a-94f6-9856eae052d2",
   "metadata": {},
   "outputs": [
    {
     "name": "stdout",
     "output_type": "stream",
     "text": [
      "Wall time: 6min 19s\n"
     ]
    }
   ],
   "source": [
    "%%time\n",
    "clf.fit(XTrain, yTrain)\n",
    "y_pred = clf.predict(XTest)"
   ]
  },
  {
   "cell_type": "code",
   "execution_count": 128,
   "id": "7769f435-7016-4faf-b9c0-21be87a7fa9a",
   "metadata": {},
   "outputs": [
    {
     "data": {
      "image/png": "[encoded data removed]",
      "text/plain": [
       "<Figure size 576x432 with 2 Axes>"
      ]
     },
     "metadata": {
      "needs_background": "light"
     },
     "output_type": "display_data"
    }
   ],
   "source": [
    "plot_confusion_matrix(yTest,y_pred,\"Random Forest seul (paramètres par défaut)\")"
   ]
  },
  {
   "cell_type": "markdown",
   "id": "964efe5e-6536-4bb8-b112-8b4c9d26f5b4",
   "metadata": {},
   "source": [
    "On obtient un meilleur f1_score sans l'utilisation d'adasyn. \n",
    "\n",
    "On constate que l'on a un nombre de faux positifs bien inférieur."
   ]
  },
  {
   "cell_type": "markdown",
   "id": "54bc0c35-5ce6-4480-9886-4376b7d59339",
   "metadata": {},
   "source": [
    "## IsolationForest"
   ]
  },
  {
   "cell_type": "code",
   "execution_count": 163,
   "id": "2b3bf266-69e7-4fb2-b6ab-0b7db5c1df8b",
   "metadata": {},
   "outputs": [],
   "source": [
    "clf = IsolationForest(random_state=42,n_jobs=-1,contamination=0.01)"
   ]
  },
  {
   "cell_type": "code",
   "execution_count": 164,
   "id": "bce44748-761b-43b9-a07c-7422cc88ba5f",
   "metadata": {},
   "outputs": [
    {
     "name": "stderr",
     "output_type": "stream",
     "text": [
      "C:\\Users\\rodud\\anaconda3\\lib\\site-packages\\sklearn\\base.py:445: UserWarning: X does not have valid feature names, but IsolationForest was fitted with feature names\n",
      "  warnings.warn(\n"
     ]
    },
    {
     "name": "stdout",
     "output_type": "stream",
     "text": [
      "Wall time: 3min 27s\n"
     ]
    }
   ],
   "source": [
    "%%time\n",
    "clf.fit(XTrain)"
   ]
  },
  {
   "cell_type": "code",
   "execution_count": 172,
   "id": "5f2f90e8-de83-4010-8ef3-f812c58cac1a",
   "metadata": {},
   "outputs": [],
   "source": [
    "y_pred = clf.predict(XTest)"
   ]
  },
  {
   "cell_type": "code",
   "execution_count": 176,
   "id": "25e66f2e-d7e4-4a5f-80f4-46d40eb088b5",
   "metadata": {},
   "outputs": [
    {
     "data": {
      "text/html": [
       "<div>\n",
       "<style scoped>\n",
       "    .dataframe tbody tr th:only-of-type {\n",
       "        vertical-align: middle;\n",
       "    }\n",
       "\n",
       "    .dataframe tbody tr th {\n",
       "        vertical-align: top;\n",
       "    }\n",
       "\n",
       "    .dataframe thead th {\n",
       "        text-align: right;\n",
       "    }\n",
       "</style>\n",
       "<table border=\"1\" class=\"dataframe\">\n",
       "  <thead>\n",
       "    <tr style=\"text-align: right;\">\n",
       "      <th></th>\n",
       "      <th>Montant</th>\n",
       "      <th>VerifianceCPT1</th>\n",
       "      <th>VerifianceCPT2</th>\n",
       "      <th>VerifianceCPT3</th>\n",
       "      <th>D2CB</th>\n",
       "      <th>ScoringFP1</th>\n",
       "      <th>ScoringFP2</th>\n",
       "      <th>ScoringFP3</th>\n",
       "      <th>TauxImpNb_RB</th>\n",
       "      <th>TauxImpNB_CPM</th>\n",
       "      <th>EcartNumCheq</th>\n",
       "      <th>NbrMagasin3J</th>\n",
       "      <th>DiffDateTr1</th>\n",
       "      <th>DiffDateTr2</th>\n",
       "      <th>DiffDateTr3</th>\n",
       "      <th>CA3TRetMtt</th>\n",
       "      <th>CA3TR</th>\n",
       "      <th>CodeDecision_1</th>\n",
       "      <th>CodeDecision_2</th>\n",
       "      <th>CodeDecision_3</th>\n",
       "    </tr>\n",
       "  </thead>\n",
       "  <tbody>\n",
       "    <tr>\n",
       "      <th>0</th>\n",
       "      <td>-0.420302</td>\n",
       "      <td>-0.581824</td>\n",
       "      <td>-0.552351</td>\n",
       "      <td>-0.521176</td>\n",
       "      <td>1.017656</td>\n",
       "      <td>-0.084590</td>\n",
       "      <td>-0.239505</td>\n",
       "      <td>-0.275801</td>\n",
       "      <td>-0.030212</td>\n",
       "      <td>0.818043</td>\n",
       "      <td>-0.043817</td>\n",
       "      <td>-0.194165</td>\n",
       "      <td>0.135329</td>\n",
       "      <td>-0.301229</td>\n",
       "      <td>-0.451325</td>\n",
       "      <td>-0.455513</td>\n",
       "      <td>-0.202861</td>\n",
       "      <td>1.0</td>\n",
       "      <td>0.0</td>\n",
       "      <td>0.0</td>\n",
       "    </tr>\n",
       "    <tr>\n",
       "      <th>1</th>\n",
       "      <td>-0.420302</td>\n",
       "      <td>-0.581824</td>\n",
       "      <td>-0.552351</td>\n",
       "      <td>-0.521176</td>\n",
       "      <td>1.017656</td>\n",
       "      <td>-0.084590</td>\n",
       "      <td>-0.239505</td>\n",
       "      <td>-0.275801</td>\n",
       "      <td>0.162138</td>\n",
       "      <td>0.818043</td>\n",
       "      <td>-0.043812</td>\n",
       "      <td>4.975724</td>\n",
       "      <td>-1.945875</td>\n",
       "      <td>-0.301229</td>\n",
       "      <td>-0.451325</td>\n",
       "      <td>-0.371994</td>\n",
       "      <td>0.038808</td>\n",
       "      <td>1.0</td>\n",
       "      <td>0.0</td>\n",
       "      <td>0.0</td>\n",
       "    </tr>\n",
       "    <tr>\n",
       "      <th>2</th>\n",
       "      <td>-0.022127</td>\n",
       "      <td>-0.581824</td>\n",
       "      <td>-0.552351</td>\n",
       "      <td>-0.521176</td>\n",
       "      <td>1.008573</td>\n",
       "      <td>-0.084590</td>\n",
       "      <td>-0.239505</td>\n",
       "      <td>-0.275801</td>\n",
       "      <td>0.562636</td>\n",
       "      <td>0.818043</td>\n",
       "      <td>-0.043817</td>\n",
       "      <td>-0.194165</td>\n",
       "      <td>0.135329</td>\n",
       "      <td>-0.301229</td>\n",
       "      <td>-0.451325</td>\n",
       "      <td>-0.090397</td>\n",
       "      <td>-0.202861</td>\n",
       "      <td>1.0</td>\n",
       "      <td>0.0</td>\n",
       "      <td>0.0</td>\n",
       "    </tr>\n",
       "    <tr>\n",
       "      <th>3</th>\n",
       "      <td>-0.057565</td>\n",
       "      <td>1.545332</td>\n",
       "      <td>1.337233</td>\n",
       "      <td>1.088824</td>\n",
       "      <td>-0.272152</td>\n",
       "      <td>-0.084590</td>\n",
       "      <td>-0.239505</td>\n",
       "      <td>-0.275801</td>\n",
       "      <td>1.172099</td>\n",
       "      <td>0.906727</td>\n",
       "      <td>-0.043817</td>\n",
       "      <td>-0.194165</td>\n",
       "      <td>0.135329</td>\n",
       "      <td>-0.301229</td>\n",
       "      <td>-0.451325</td>\n",
       "      <td>-0.122893</td>\n",
       "      <td>-0.202861</td>\n",
       "      <td>0.0</td>\n",
       "      <td>0.0</td>\n",
       "      <td>0.0</td>\n",
       "    </tr>\n",
       "    <tr>\n",
       "      <th>4</th>\n",
       "      <td>-0.347310</td>\n",
       "      <td>-0.581824</td>\n",
       "      <td>-0.552351</td>\n",
       "      <td>-0.521176</td>\n",
       "      <td>1.008573</td>\n",
       "      <td>-0.084434</td>\n",
       "      <td>0.637044</td>\n",
       "      <td>-0.273204</td>\n",
       "      <td>0.104780</td>\n",
       "      <td>0.818043</td>\n",
       "      <td>-0.043812</td>\n",
       "      <td>-0.194165</td>\n",
       "      <td>-1.757421</td>\n",
       "      <td>-0.301229</td>\n",
       "      <td>-0.451325</td>\n",
       "      <td>-0.075750</td>\n",
       "      <td>0.702346</td>\n",
       "      <td>1.0</td>\n",
       "      <td>0.0</td>\n",
       "      <td>0.0</td>\n",
       "    </tr>\n",
       "    <tr>\n",
       "      <th>...</th>\n",
       "      <td>...</td>\n",
       "      <td>...</td>\n",
       "      <td>...</td>\n",
       "      <td>...</td>\n",
       "      <td>...</td>\n",
       "      <td>...</td>\n",
       "      <td>...</td>\n",
       "      <td>...</td>\n",
       "      <td>...</td>\n",
       "      <td>...</td>\n",
       "      <td>...</td>\n",
       "      <td>...</td>\n",
       "      <td>...</td>\n",
       "      <td>...</td>\n",
       "      <td>...</td>\n",
       "      <td>...</td>\n",
       "      <td>...</td>\n",
       "      <td>...</td>\n",
       "      <td>...</td>\n",
       "      <td>...</td>\n",
       "    </tr>\n",
       "    <tr>\n",
       "      <th>3899357</th>\n",
       "      <td>-0.294418</td>\n",
       "      <td>-0.581824</td>\n",
       "      <td>-0.552351</td>\n",
       "      <td>-0.521176</td>\n",
       "      <td>0.658872</td>\n",
       "      <td>-0.081791</td>\n",
       "      <td>-0.410249</td>\n",
       "      <td>-0.216641</td>\n",
       "      <td>0.366548</td>\n",
       "      <td>0.818043</td>\n",
       "      <td>-0.043817</td>\n",
       "      <td>-0.194165</td>\n",
       "      <td>0.135329</td>\n",
       "      <td>-0.301229</td>\n",
       "      <td>-0.451325</td>\n",
       "      <td>-0.340081</td>\n",
       "      <td>-0.202861</td>\n",
       "      <td>0.0</td>\n",
       "      <td>0.0</td>\n",
       "      <td>0.0</td>\n",
       "    </tr>\n",
       "    <tr>\n",
       "      <th>3899358</th>\n",
       "      <td>-0.057988</td>\n",
       "      <td>-0.581824</td>\n",
       "      <td>-0.552351</td>\n",
       "      <td>-0.521176</td>\n",
       "      <td>0.917742</td>\n",
       "      <td>-0.084059</td>\n",
       "      <td>0.707214</td>\n",
       "      <td>-0.273203</td>\n",
       "      <td>0.104780</td>\n",
       "      <td>0.818043</td>\n",
       "      <td>-0.043817</td>\n",
       "      <td>-0.194165</td>\n",
       "      <td>0.135329</td>\n",
       "      <td>-0.301229</td>\n",
       "      <td>-0.451325</td>\n",
       "      <td>-0.123281</td>\n",
       "      <td>-0.202861</td>\n",
       "      <td>0.0</td>\n",
       "      <td>0.0</td>\n",
       "      <td>0.0</td>\n",
       "    </tr>\n",
       "    <tr>\n",
       "      <th>3899359</th>\n",
       "      <td>-0.440507</td>\n",
       "      <td>-0.581824</td>\n",
       "      <td>-0.552351</td>\n",
       "      <td>-0.521176</td>\n",
       "      <td>-0.222195</td>\n",
       "      <td>-0.083916</td>\n",
       "      <td>-1.536879</td>\n",
       "      <td>-0.263031</td>\n",
       "      <td>0.757875</td>\n",
       "      <td>0.818043</td>\n",
       "      <td>-0.043817</td>\n",
       "      <td>-0.194165</td>\n",
       "      <td>0.135329</td>\n",
       "      <td>-0.301229</td>\n",
       "      <td>-0.451325</td>\n",
       "      <td>-0.474041</td>\n",
       "      <td>-0.202861</td>\n",
       "      <td>0.0</td>\n",
       "      <td>0.0</td>\n",
       "      <td>0.0</td>\n",
       "    </tr>\n",
       "    <tr>\n",
       "      <th>3899360</th>\n",
       "      <td>0.370230</td>\n",
       "      <td>-0.581824</td>\n",
       "      <td>-0.552351</td>\n",
       "      <td>-0.521176</td>\n",
       "      <td>-1.362131</td>\n",
       "      <td>-0.074905</td>\n",
       "      <td>-0.343666</td>\n",
       "      <td>-0.213763</td>\n",
       "      <td>-0.030212</td>\n",
       "      <td>0.818043</td>\n",
       "      <td>4.131997</td>\n",
       "      <td>-0.194165</td>\n",
       "      <td>-1.755944</td>\n",
       "      <td>-0.301229</td>\n",
       "      <td>-0.451325</td>\n",
       "      <td>0.580276</td>\n",
       "      <td>0.696732</td>\n",
       "      <td>0.0</td>\n",
       "      <td>0.0</td>\n",
       "      <td>0.0</td>\n",
       "    </tr>\n",
       "    <tr>\n",
       "      <th>3899361</th>\n",
       "      <td>-0.181334</td>\n",
       "      <td>-0.581824</td>\n",
       "      <td>-0.552351</td>\n",
       "      <td>-0.521176</td>\n",
       "      <td>-0.208570</td>\n",
       "      <td>-0.084142</td>\n",
       "      <td>-1.543678</td>\n",
       "      <td>-0.269355</td>\n",
       "      <td>0.012733</td>\n",
       "      <td>1.933509</td>\n",
       "      <td>-0.043817</td>\n",
       "      <td>-0.194165</td>\n",
       "      <td>0.135329</td>\n",
       "      <td>-0.301229</td>\n",
       "      <td>-0.451325</td>\n",
       "      <td>-0.236385</td>\n",
       "      <td>-0.202861</td>\n",
       "      <td>0.0</td>\n",
       "      <td>0.0</td>\n",
       "      <td>0.0</td>\n",
       "    </tr>\n",
       "  </tbody>\n",
       "</table>\n",
       "<p>3899362 rows × 20 columns</p>\n",
       "</div>"
      ],
      "text/plain": [
       "          Montant  VerifianceCPT1  VerifianceCPT2  VerifianceCPT3      D2CB  \\\n",
       "0       -0.420302       -0.581824       -0.552351       -0.521176  1.017656   \n",
       "1       -0.420302       -0.581824       -0.552351       -0.521176  1.017656   \n",
       "2       -0.022127       -0.581824       -0.552351       -0.521176  1.008573   \n",
       "3       -0.057565        1.545332        1.337233        1.088824 -0.272152   \n",
       "4       -0.347310       -0.581824       -0.552351       -0.521176  1.008573   \n",
       "...           ...             ...             ...             ...       ...   \n",
       "3899357 -0.294418       -0.581824       -0.552351       -0.521176  0.658872   \n",
       "3899358 -0.057988       -0.581824       -0.552351       -0.521176  0.917742   \n",
       "3899359 -0.440507       -0.581824       -0.552351       -0.521176 -0.222195   \n",
       "3899360  0.370230       -0.581824       -0.552351       -0.521176 -1.362131   \n",
       "3899361 -0.181334       -0.581824       -0.552351       -0.521176 -0.208570   \n",
       "\n",
       "         ScoringFP1  ScoringFP2  ScoringFP3  TauxImpNb_RB  TauxImpNB_CPM  \\\n",
       "0         -0.084590   -0.239505   -0.275801     -0.030212       0.818043   \n",
       "1         -0.084590   -0.239505   -0.275801      0.162138       0.818043   \n",
       "2         -0.084590   -0.239505   -0.275801      0.562636       0.818043   \n",
       "3         -0.084590   -0.239505   -0.275801      1.172099       0.906727   \n",
       "4         -0.084434    0.637044   -0.273204      0.104780       0.818043   \n",
       "...             ...         ...         ...           ...            ...   \n",
       "3899357   -0.081791   -0.410249   -0.216641      0.366548       0.818043   \n",
       "3899358   -0.084059    0.707214   -0.273203      0.104780       0.818043   \n",
       "3899359   -0.083916   -1.536879   -0.263031      0.757875       0.818043   \n",
       "3899360   -0.074905   -0.343666   -0.213763     -0.030212       0.818043   \n",
       "3899361   -0.084142   -1.543678   -0.269355      0.012733       1.933509   \n",
       "\n",
       "         EcartNumCheq  NbrMagasin3J  DiffDateTr1  DiffDateTr2  DiffDateTr3  \\\n",
       "0           -0.043817     -0.194165     0.135329    -0.301229    -0.451325   \n",
       "1           -0.043812      4.975724    -1.945875    -0.301229    -0.451325   \n",
       "2           -0.043817     -0.194165     0.135329    -0.301229    -0.451325   \n",
       "3           -0.043817     -0.194165     0.135329    -0.301229    -0.451325   \n",
       "4           -0.043812     -0.194165    -1.757421    -0.301229    -0.451325   \n",
       "...               ...           ...          ...          ...          ...   \n",
       "3899357     -0.043817     -0.194165     0.135329    -0.301229    -0.451325   \n",
       "3899358     -0.043817     -0.194165     0.135329    -0.301229    -0.451325   \n",
       "3899359     -0.043817     -0.194165     0.135329    -0.301229    -0.451325   \n",
       "3899360      4.131997     -0.194165    -1.755944    -0.301229    -0.451325   \n",
       "3899361     -0.043817     -0.194165     0.135329    -0.301229    -0.451325   \n",
       "\n",
       "         CA3TRetMtt     CA3TR  CodeDecision_1  CodeDecision_2  CodeDecision_3  \n",
       "0         -0.455513 -0.202861             1.0             0.0             0.0  \n",
       "1         -0.371994  0.038808             1.0             0.0             0.0  \n",
       "2         -0.090397 -0.202861             1.0             0.0             0.0  \n",
       "3         -0.122893 -0.202861             0.0             0.0             0.0  \n",
       "4         -0.075750  0.702346             1.0             0.0             0.0  \n",
       "...             ...       ...             ...             ...             ...  \n",
       "3899357   -0.340081 -0.202861             0.0             0.0             0.0  \n",
       "3899358   -0.123281 -0.202861             0.0             0.0             0.0  \n",
       "3899359   -0.474041 -0.202861             0.0             0.0             0.0  \n",
       "3899360    0.580276  0.696732             0.0             0.0             0.0  \n",
       "3899361   -0.236385 -0.202861             0.0             0.0             0.0  \n",
       "\n",
       "[3899362 rows x 20 columns]"
      ]
     },
     "execution_count": 176,
     "metadata": {},
     "output_type": "execute_result"
    }
   ],
   "source": [
    "XTrain"
   ]
  },
  {
   "cell_type": "code",
   "execution_count": 177,
   "id": "db32067a-8af7-4c2d-aac7-00b60e733397",
   "metadata": {},
   "outputs": [
    {
     "data": {
      "text/plain": [
       "Counter({1: 741856, -1: 5555})"
      ]
     },
     "execution_count": 177,
     "metadata": {},
     "output_type": "execute_result"
    }
   ],
   "source": [
    "Counter(y_pred)"
   ]
  },
  {
   "cell_type": "code",
   "execution_count": 167,
   "id": "3eb6b56b-bad5-4b41-b17b-55aa105e8b80",
   "metadata": {},
   "outputs": [],
   "source": [
    "# 1 = inlieurs\n",
    "# -1 = outliers"
   ]
  },
  {
   "cell_type": "code",
   "execution_count": 184,
   "id": "c4243058-a842-46a7-9aa7-dbff3feb4840",
   "metadata": {},
   "outputs": [
    {
     "data": {
      "text/plain": [
       "Counter({0: 741856, -1: 5555})"
      ]
     },
     "execution_count": 184,
     "metadata": {},
     "output_type": "execute_result"
    }
   ],
   "source": [
    "y_pred = np.where(y_pred==1, 0, y_pred) \n",
    "Counter(y_pred)"
   ]
  },
  {
   "cell_type": "code",
   "execution_count": 188,
   "id": "f1f64a69-9f8e-4aeb-a1de-2fcee1c28b72",
   "metadata": {},
   "outputs": [
    {
     "data": {
      "text/plain": [
       "Counter({0: 741856, 1: 5555})"
      ]
     },
     "execution_count": 188,
     "metadata": {},
     "output_type": "execute_result"
    }
   ],
   "source": [
    "y_pred = np.where(y_pred == -1, 1, y_pred) \n",
    "Counter(y_pred)"
   ]
  },
  {
   "cell_type": "code",
   "execution_count": 189,
   "id": "85af0dac-cf21-44cb-b7b0-28d0d2b4bfaa",
   "metadata": {},
   "outputs": [
    {
     "data": {
      "image/png": "[encoded data removed]",
      "text/plain": [
       "<Figure size 576x432 with 2 Axes>"
      ]
     },
     "metadata": {
      "needs_background": "light"
     },
     "output_type": "display_data"
    }
   ],
   "source": [
    "plot_confusion_matrix(yTest,y_pred,\"Isolation Forest seul (paramètres par défaut)\")"
   ]
  },
  {
   "cell_type": "code",
   "execution_count": null,
   "id": "3aa3c748-8790-41ab-aa2d-173d18bb1a59",
   "metadata": {},
   "outputs": [],
   "source": []
  },
  {
   "cell_type": "code",
   "execution_count": null,
   "id": "594324e3-6178-46b8-a6ff-1d71417b844e",
   "metadata": {},
   "outputs": [],
   "source": []
  },
  {
   "cell_type": "code",
   "execution_count": null,
   "id": "5d478c3f-d9bd-4b79-8cb8-713960cf6009",
   "metadata": {},
   "outputs": [],
   "source": []
  },
  {
   "cell_type": "markdown",
   "id": "b480e7a4",
   "metadata": {
    "id": "b480e7a4"
   },
   "source": [
    "<font color='red'>⚠️BEAUCOUP TROP LONG TROUVER SOLUTION POUR DELAYED⚠️</font>"
   ]
  },
  {
   "cell_type": "code",
   "execution_count": null,
   "id": "edbc97f1",
   "metadata": {
    "id": "edbc97f1"
   },
   "outputs": [],
   "source": [
    "#Scaling sinon Warning en sortie\n",
    "scaler = MinMaxScaler().fit(XTrain)\n",
    "#fit_Scale = delayed(scaler.fit)(XTrain)\n",
    "#XTrain_Scale = delayed(fit_Scale.transform)(XTrain)\n",
    "#XTest_Scale = delayed(fit_Scale.transform)(XTest)\n",
    "XTrain_Scale = scaler.transform(XTrain)\n",
    "XTest_Scale = scaler.transform(XTest)"
   ]
  },
  {
   "cell_type": "markdown",
   "id": "c95541bc",
   "metadata": {
    "id": "c95541bc"
   },
   "source": [
    "<h4><font color='BLUE'>REGRESSION LOGISTIQUE PAR DEFAULT</font></h4>"
   ]
  },
  {
   "cell_type": "code",
   "execution_count": null,
   "id": "aece8dda",
   "metadata": {
    "id": "aece8dda"
   },
   "outputs": [],
   "source": [
    "#Regression Logistique\n",
    "LR = LogisticRegression(max_iter=5000)\n",
    "fit_LR = delayed(LR.fit)(XTrain_Scale,yTrain)"
   ]
  },
  {
   "cell_type": "code",
   "execution_count": null,
   "id": "da5b325c",
   "metadata": {
    "id": "da5b325c"
   },
   "outputs": [],
   "source": [
    "#Calcul des prédictions\n",
    "yPred = (delayed(fit_LR.predict)(XTest_Scale))\n",
    "yPred =yPred.compute()"
   ]
  },
  {
   "cell_type": "code",
   "execution_count": null,
   "id": "4e5fc4cd",
   "metadata": {
    "id": "4e5fc4cd",
    "outputId": "4671af5b-4641-4580-a4fb-191d2fcf1a3a"
   },
   "outputs": [
    {
     "name": "stdout",
     "output_type": "stream",
     "text": [
      "col_0       0     1\n",
      "row_0              \n",
      "0      740367   471\n",
      "1        3668  2905\n"
     ]
    }
   ],
   "source": [
    "print(pd.crosstab(yTest,yPred))"
   ]
  },
  {
   "cell_type": "code",
   "execution_count": null,
   "id": "10d8cef2",
   "metadata": {
    "id": "10d8cef2",
    "outputId": "543c0dab-822c-4ae3-a8a1-1de772db55ce"
   },
   "outputs": [
    {
     "name": "stdout",
     "output_type": "stream",
     "text": [
      "              precision    recall  f1-score   support\n",
      "\n",
      "           0       1.00      1.00      1.00    740838\n",
      "           1       0.86      0.44      0.58      6573\n",
      "\n",
      "    accuracy                           0.99    747411\n",
      "   macro avg       0.93      0.72      0.79    747411\n",
      "weighted avg       0.99      0.99      0.99    747411\n",
      "\n"
     ]
    }
   ],
   "source": [
    "print(classification_report(yTest,yPred))"
   ]
  },
  {
   "cell_type": "markdown",
   "id": "6e3d5500",
   "metadata": {
    "id": "6e3d5500"
   },
   "source": [
    "<h4><font color='BLUE'>ESSAIE METHODE UNDERSAMPLING \"RANDOM\" + REGRESSION LOGISTIQUE PAR DEFAULT</font></h4>"
   ]
  },
  {
   "cell_type": "code",
   "execution_count": null,
   "id": "f444b80d",
   "metadata": {
    "id": "f444b80d"
   },
   "outputs": [],
   "source": [
    "from imblearn.under_sampling import RandomUnderSampler"
   ]
  },
  {
   "cell_type": "markdown",
   "id": "082f05ab",
   "metadata": {
    "id": "082f05ab"
   },
   "source": [
    "<font color='red'>⚠️TROUVER UNE SOLUTION AU TYPAGE DU XTRAIN_SCALE⚠️</font>"
   ]
  },
  {
   "cell_type": "code",
   "execution_count": null,
   "id": "d14c3a38",
   "metadata": {
    "id": "d14c3a38"
   },
   "outputs": [],
   "source": [
    "#Implémentation\n",
    "#XTrain_Scale = ddf.DataFrame(XTrain_Scale)\n",
    "#XTrain_Scale = XTrain_Scale.values\n",
    "#yTrain = yTrain.values\n",
    "rus = RandomUnderSampler()\n",
    "Xrus,yrus = rus.fit_resample(XTrain_Scale, yTrain)"
   ]
  },
  {
   "cell_type": "code",
   "execution_count": null,
   "id": "c6e11afb",
   "metadata": {
    "id": "c6e11afb"
   },
   "outputs": [],
   "source": [
    "LR = LogisticRegression(max_iter=5000)\n",
    "fit_LR = delayed(LR.fit)(Xrus,yrus)"
   ]
  },
  {
   "cell_type": "code",
   "execution_count": null,
   "id": "f37e0bdb",
   "metadata": {
    "id": "f37e0bdb"
   },
   "outputs": [],
   "source": [
    "yPred = (delayed(fit_LR.predict)(XTest_Scale))\n",
    "yPred =yPred.compute()"
   ]
  },
  {
   "cell_type": "code",
   "execution_count": null,
   "id": "8c95547a",
   "metadata": {
    "id": "8c95547a",
    "outputId": "71a29aef-d934-4f28-e46b-7c78a33aa3d4"
   },
   "outputs": [
    {
     "name": "stdout",
     "output_type": "stream",
     "text": [
      "col_0       0      1\n",
      "row_0               \n",
      "0      701081  39757\n",
      "1        1271   5302\n"
     ]
    }
   ],
   "source": [
    "print(pd.crosstab(yTest,yPred))"
   ]
  },
  {
   "cell_type": "code",
   "execution_count": null,
   "id": "2ca266b0",
   "metadata": {
    "id": "2ca266b0",
    "outputId": "76b480d6-a529-4b9d-cc86-49f0637b8012"
   },
   "outputs": [
    {
     "name": "stdout",
     "output_type": "stream",
     "text": [
      "              precision    recall  f1-score   support\n",
      "\n",
      "           0       1.00      0.95      0.97    740838\n",
      "           1       0.12      0.81      0.21      6573\n",
      "\n",
      "    accuracy                           0.95    747411\n",
      "   macro avg       0.56      0.88      0.59    747411\n",
      "weighted avg       0.99      0.95      0.96    747411\n",
      "\n"
     ]
    }
   ],
   "source": [
    "print(classification_report(yTest,yPred))"
   ]
  },
  {
   "cell_type": "markdown",
   "id": "9af24702",
   "metadata": {
    "id": "9af24702"
   },
   "source": [
    "<font color='BLUE'>CONCLUSION : MOINS BON AVEC UNDERSAMPLING RANDOM<br/>\n",
    "QUESTION : POURQUOI?</font>"
   ]
  },
  {
   "cell_type": "markdown",
   "id": "1b80c3e4",
   "metadata": {
    "id": "1b80c3e4"
   },
   "source": [
    "<h4><font color='BLUE'>ESSAIE METHODE UNDERSAMPLING \"RANDOM\" + REGRESSION LOGISTIQUE solver=\"SAGA\"</font></h4>"
   ]
  },
  {
   "cell_type": "code",
   "execution_count": null,
   "id": "edab94bf",
   "metadata": {
    "id": "edab94bf"
   },
   "outputs": [],
   "source": [
    "LR = LogisticRegression(solver =\"saga\",max_iter=5000)\n",
    "fit_LR = delayed(LR.fit)(Xrus,yrus)"
   ]
  },
  {
   "cell_type": "code",
   "execution_count": null,
   "id": "ff81e219",
   "metadata": {
    "id": "ff81e219"
   },
   "outputs": [],
   "source": [
    "yPred = (delayed(fit_LR.predict)(XTest_Scale))\n",
    "yPred =yPred.compute()"
   ]
  },
  {
   "cell_type": "code",
   "execution_count": null,
   "id": "4249215b",
   "metadata": {
    "id": "4249215b",
    "outputId": "44ca341e-7134-4ba0-df88-cd2ebbc77c3b"
   },
   "outputs": [
    {
     "name": "stdout",
     "output_type": "stream",
     "text": [
      "col_0       0      1\n",
      "row_0               \n",
      "0      701076  39762\n",
      "1        1271   5302\n"
     ]
    }
   ],
   "source": [
    "print(pd.crosstab(yTest,yPred))"
   ]
  },
  {
   "cell_type": "code",
   "execution_count": null,
   "id": "745a789f",
   "metadata": {
    "id": "745a789f",
    "outputId": "56f93fc4-f966-4ef2-8515-99a659d0ae2c"
   },
   "outputs": [
    {
     "name": "stdout",
     "output_type": "stream",
     "text": [
      "              precision    recall  f1-score   support\n",
      "\n",
      "           0       1.00      0.95      0.97    740838\n",
      "           1       0.12      0.81      0.21      6573\n",
      "\n",
      "    accuracy                           0.95    747411\n",
      "   macro avg       0.56      0.88      0.59    747411\n",
      "weighted avg       0.99      0.95      0.96    747411\n",
      "\n"
     ]
    }
   ],
   "source": [
    "print(classification_report(yTest,yPred))"
   ]
  },
  {
   "cell_type": "markdown",
   "id": "ae26c06c",
   "metadata": {
    "id": "ae26c06c"
   },
   "source": [
    "<h4><font color='BLUE'>ESSAIE METHODE UNDERSAMPLING \"RANDOM\" + REGRESSION LOGISTIQUE solver=\"SAGA\" penalty=\"l1\"</font></h4>"
   ]
  },
  {
   "cell_type": "code",
   "execution_count": null,
   "id": "a74a53b2",
   "metadata": {
    "id": "a74a53b2"
   },
   "outputs": [],
   "source": [
    "LR = LogisticRegression(solver =\"saga\",penalty=\"l1\",max_iter=5000)\n",
    "fit_LR = delayed(LR.fit)(Xrus,yrus)"
   ]
  },
  {
   "cell_type": "code",
   "execution_count": null,
   "id": "662f52f8",
   "metadata": {
    "id": "662f52f8"
   },
   "outputs": [],
   "source": [
    "yPred = (delayed(fit_LR.predict)(XTest_Scale))\n",
    "yPred =yPred.compute()"
   ]
  },
  {
   "cell_type": "code",
   "execution_count": null,
   "id": "9697c023",
   "metadata": {
    "id": "9697c023",
    "outputId": "acc95516-d890-47a1-f689-17ca673f7f7b"
   },
   "outputs": [
    {
     "name": "stdout",
     "output_type": "stream",
     "text": [
      "col_0       0      1\n",
      "row_0               \n",
      "0      701631  39207\n",
      "1        1286   5287\n"
     ]
    }
   ],
   "source": [
    "print(pd.crosstab(yTest,yPred))"
   ]
  },
  {
   "cell_type": "code",
   "execution_count": null,
   "id": "30f20f3b",
   "metadata": {
    "id": "30f20f3b",
    "outputId": "a737a249-4d59-4c7d-a4ae-4549b8ea086b"
   },
   "outputs": [
    {
     "name": "stdout",
     "output_type": "stream",
     "text": [
      "              precision    recall  f1-score   support\n",
      "\n",
      "           0       1.00      0.95      0.97    740838\n",
      "           1       0.12      0.80      0.21      6573\n",
      "\n",
      "    accuracy                           0.95    747411\n",
      "   macro avg       0.56      0.88      0.59    747411\n",
      "weighted avg       0.99      0.95      0.97    747411\n",
      "\n"
     ]
    }
   ],
   "source": [
    "print(classification_report(yTest,yPred))"
   ]
  },
  {
   "cell_type": "markdown",
   "id": "3986e2f9",
   "metadata": {
    "id": "3986e2f9"
   },
   "source": [
    "<h4><font color='BLUE'>ESSAIE METHODE UNDERSAMPLING \"RANDOM\" + REGRESSION LOGISTIQUE solver=\"SAGA\" penalty=\"elasticnet\"</font></h4>"
   ]
  },
  {
   "cell_type": "code",
   "execution_count": null,
   "id": "df35ea28",
   "metadata": {
    "id": "df35ea28"
   },
   "outputs": [],
   "source": [
    "LR = LogisticRegression(solver =\"saga\",penalty=\"elasticnet\",max_iter=5000,l1_ratio=0.3)\n",
    "fit_LR = delayed(LR.fit)(Xrus,yrus)"
   ]
  },
  {
   "cell_type": "code",
   "execution_count": null,
   "id": "227851f9",
   "metadata": {
    "id": "227851f9"
   },
   "outputs": [],
   "source": [
    "yPred = (delayed(fit_LR.predict)(XTest_Scale))\n",
    "yPred =yPred.compute()"
   ]
  },
  {
   "cell_type": "code",
   "execution_count": null,
   "id": "c8a4e1ec",
   "metadata": {
    "id": "c8a4e1ec",
    "outputId": "8c789f5a-cebd-4f8c-d2c4-c43d62ac0532"
   },
   "outputs": [
    {
     "name": "stdout",
     "output_type": "stream",
     "text": [
      "col_0       0      1\n",
      "row_0               \n",
      "0      701252  39586\n",
      "1        1270   5303\n"
     ]
    }
   ],
   "source": [
    "print(pd.crosstab(yTest,yPred))"
   ]
  },
  {
   "cell_type": "code",
   "execution_count": null,
   "id": "6da9ea13",
   "metadata": {
    "id": "6da9ea13",
    "outputId": "0e1d94cd-f1e6-41d7-d85b-8bef3ed0052f"
   },
   "outputs": [
    {
     "name": "stdout",
     "output_type": "stream",
     "text": [
      "              precision    recall  f1-score   support\n",
      "\n",
      "           0       1.00      0.95      0.97    740838\n",
      "           1       0.12      0.81      0.21      6573\n",
      "\n",
      "    accuracy                           0.95    747411\n",
      "   macro avg       0.56      0.88      0.59    747411\n",
      "weighted avg       0.99      0.95      0.96    747411\n",
      "\n"
     ]
    }
   ],
   "source": [
    "print(classification_report(yTest,yPred))"
   ]
  },
  {
   "cell_type": "markdown",
   "id": "2618fa0e",
   "metadata": {
    "id": "2618fa0e"
   },
   "source": [
    "<h4><font color='BLUE'>ESSAIE METHODE UNDERSAMPLING \"EditedNearestNeighbours\" + REGRESSION LOGISTIQUE PAR DEFAULT</font></h4>"
   ]
  },
  {
   "cell_type": "code",
   "execution_count": null,
   "id": "e610d96d",
   "metadata": {
    "id": "e610d96d"
   },
   "outputs": [],
   "source": [
    "from imblearn.under_sampling import EditedNearestNeighbours"
   ]
  },
  {
   "cell_type": "code",
   "execution_count": null,
   "id": "17953aa1",
   "metadata": {
    "id": "17953aa1"
   },
   "outputs": [],
   "source": [
    "enn = EditedNearestNeighbours()\n",
    "X_enn, y_enn = enn.fit_resample(XTrain_Scale, yTrain)"
   ]
  },
  {
   "cell_type": "code",
   "execution_count": null,
   "id": "8e7a33fb",
   "metadata": {
    "id": "8e7a33fb"
   },
   "outputs": [],
   "source": [
    "LR = LogisticRegression(max_iter=5000)\n",
    "fit_LR = delayed(LR.fit)(Xrus,yrus)"
   ]
  },
  {
   "cell_type": "code",
   "execution_count": null,
   "id": "a7017ec9",
   "metadata": {
    "id": "a7017ec9"
   },
   "outputs": [],
   "source": [
    "yPred = (delayed(fit_LR.predict)(XTest_Scale))\n",
    "yPred =yPred.compute()"
   ]
  },
  {
   "cell_type": "code",
   "execution_count": null,
   "id": "dde29bab",
   "metadata": {
    "id": "dde29bab"
   },
   "outputs": [],
   "source": [
    "print(pd.crosstab(yTest,yPred))"
   ]
  },
  {
   "cell_type": "code",
   "execution_count": null,
   "id": "b374ab36",
   "metadata": {
    "id": "b374ab36"
   },
   "outputs": [],
   "source": [
    "print(classification_report(yTest,yPred))"
   ]
  }
 ],
 "metadata": {
  "accelerator": "GPU",
  "colab": {
   "collapsed_sections": [
    "mb7b7AyFjsrj"
   ],
   "name": "Copie_Projet(Romain).ipynb",
   "provenance": []
  },
  "kernelspec": {
   "display_name": "Python 3 (ipykernel)",
   "language": "python",
   "name": "python3"
  },
  "language_info": {
   "codemirror_mode": {
    "name": "ipython",
    "version": 3
   },
   "file_extension": ".py",
   "mimetype": "text/x-python",
   "name": "python",
   "nbconvert_exporter": "python",
   "pygments_lexer": "ipython3",
   "version": "3.9.7"
  }
 },
 "nbformat": 4,
 "nbformat_minor": 5
}
